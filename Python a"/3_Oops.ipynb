{
 "cells": [
  {
   "cell_type": "markdown",
   "id": "56f2d382",
   "metadata": {},
   "source": [
    "# Object Oriented Programming"
   ]
  },
  {
   "cell_type": "code",
   "execution_count": 1,
   "id": "426551df",
   "metadata": {},
   "outputs": [],
   "source": [
    "a=1"
   ]
  },
  {
   "cell_type": "code",
   "execution_count": 2,
   "id": "f5e9bc36",
   "metadata": {},
   "outputs": [
    {
     "name": "stdout",
     "output_type": "stream",
     "text": [
      "<class 'int'>\n"
     ]
    }
   ],
   "source": [
    "print(type(a))"
   ]
  },
  {
   "cell_type": "code",
   "execution_count": 3,
   "id": "4b17ba9c",
   "metadata": {},
   "outputs": [
    {
     "name": "stdout",
     "output_type": "stream",
     "text": [
      "<class 'str'>\n"
     ]
    }
   ],
   "source": [
    "print(type(\"pe\"))"
   ]
  },
  {
   "cell_type": "code",
   "execution_count": 4,
   "id": "d2fd4c06",
   "metadata": {},
   "outputs": [
    {
     "name": "stdout",
     "output_type": "stream",
     "text": [
      "<class 'list'>\n"
     ]
    }
   ],
   "source": [
    "print(type([1,2,4]))"
   ]
  },
  {
   "cell_type": "code",
   "execution_count": 6,
   "id": "b3f33650",
   "metadata": {},
   "outputs": [],
   "source": [
    "class test:\n",
    "    pass"
   ]
  },
  {
   "cell_type": "code",
   "execution_count": 7,
   "id": "5ebeec8a",
   "metadata": {},
   "outputs": [
    {
     "name": "stdout",
     "output_type": "stream",
     "text": [
      "<class 'type'>\n"
     ]
    }
   ],
   "source": [
    "print(type(test))"
   ]
  },
  {
   "cell_type": "code",
   "execution_count": 8,
   "id": "1cf85d41",
   "metadata": {},
   "outputs": [],
   "source": [
    "# test is a class\n",
    "# a is object or instance of test class\n",
    "a=test()"
   ]
  },
  {
   "cell_type": "code",
   "execution_count": 10,
   "id": "7fe832e1",
   "metadata": {},
   "outputs": [
    {
     "name": "stdout",
     "output_type": "stream",
     "text": [
      "<class '__main__.test'>\n"
     ]
    }
   ],
   "source": [
    "print(type(a))"
   ]
  },
  {
   "cell_type": "code",
   "execution_count": 14,
   "id": "f3ab98fa",
   "metadata": {},
   "outputs": [],
   "source": [
    "class pwskills:\n",
    "    def welcome_msg(self):\n",
    "        print(\"welcome to pw skills\")"
   ]
  },
  {
   "cell_type": "code",
   "execution_count": 15,
   "id": "e205d7ec",
   "metadata": {},
   "outputs": [],
   "source": [
    "# welcome_msg is a method\n",
    "rohan=pwskills()"
   ]
  },
  {
   "cell_type": "code",
   "execution_count": 16,
   "id": "cef2e514",
   "metadata": {},
   "outputs": [
    {
     "name": "stdout",
     "output_type": "stream",
     "text": [
      "welcome to pw skills\n"
     ]
    }
   ],
   "source": [
    "rohan.welcome_msg()"
   ]
  },
  {
   "cell_type": "code",
   "execution_count": 17,
   "id": "7ddedd63",
   "metadata": {},
   "outputs": [],
   "source": [
    "sohan=pwskills()"
   ]
  },
  {
   "cell_type": "code",
   "execution_count": 18,
   "id": "7dd03d4a",
   "metadata": {},
   "outputs": [
    {
     "name": "stdout",
     "output_type": "stream",
     "text": [
      "welcome to pw skills\n"
     ]
    }
   ],
   "source": [
    "sohan.welcome_msg()"
   ]
  },
  {
   "cell_type": "code",
   "execution_count": 33,
   "id": "a38e42d5",
   "metadata": {},
   "outputs": [],
   "source": [
    "# constructor helps class to take data\n",
    "# self is a pointer\n",
    "class pwskills2:\n",
    "    def __init__(self,phone_no,email_id,student_id):\n",
    "        self.phone_no=phone_no\n",
    "        self.email_id=email_id\n",
    "        self.student_id=student_id\n",
    "        \n",
    "    def return_student_detail(self):\n",
    "        return self.phone_no,self.email_id,self.student_id\n",
    "    "
   ]
  },
  {
   "cell_type": "code",
   "execution_count": 36,
   "id": "15143866",
   "metadata": {},
   "outputs": [],
   "source": [
    "rohan=pwskills2(9191932424,\"djskflf@gmail.com\",456)"
   ]
  },
  {
   "cell_type": "code",
   "execution_count": 37,
   "id": "e0a08572",
   "metadata": {},
   "outputs": [
    {
     "data": {
      "text/plain": [
       "9191932424"
      ]
     },
     "execution_count": 37,
     "metadata": {},
     "output_type": "execute_result"
    }
   ],
   "source": [
    "rohan.phone_no"
   ]
  },
  {
   "cell_type": "code",
   "execution_count": 39,
   "id": "ac0e5fec",
   "metadata": {},
   "outputs": [
    {
     "data": {
      "text/plain": [
       "(9191932424, 'djskflf@gmail.com', 456)"
      ]
     },
     "execution_count": 39,
     "metadata": {},
     "output_type": "execute_result"
    }
   ],
   "source": [
    "rohan.return_student_detail()"
   ]
  },
  {
   "cell_type": "code",
   "execution_count": 41,
   "id": "747b138e",
   "metadata": {},
   "outputs": [
    {
     "data": {
      "text/plain": [
       "'djskflf@gmail.com'"
      ]
     },
     "execution_count": 41,
     "metadata": {},
     "output_type": "execute_result"
    }
   ],
   "source": [
    "rohan.email_id"
   ]
  },
  {
   "cell_type": "code",
   "execution_count": 42,
   "id": "dfda0c5a",
   "metadata": {},
   "outputs": [],
   "source": [
    "sohan=pwskills2(89592020,\"sohan@gamil.com\",244)"
   ]
  },
  {
   "cell_type": "code",
   "execution_count": 43,
   "id": "f188faf2",
   "metadata": {},
   "outputs": [
    {
     "data": {
      "text/plain": [
       "'sohan@gamil.com'"
      ]
     },
     "execution_count": 43,
     "metadata": {},
     "output_type": "execute_result"
    }
   ],
   "source": [
    "sohan.email_id"
   ]
  },
  {
   "cell_type": "code",
   "execution_count": 44,
   "id": "36a2e8d0",
   "metadata": {},
   "outputs": [
    {
     "data": {
      "text/plain": [
       "89592020"
      ]
     },
     "execution_count": 44,
     "metadata": {},
     "output_type": "execute_result"
    }
   ],
   "source": [
    "sohan.phone_no"
   ]
  },
  {
   "cell_type": "code",
   "execution_count": 45,
   "id": "3aceb8d1",
   "metadata": {},
   "outputs": [],
   "source": [
    "# to access inside the class use self eg. - self.phone_no\n",
    "# to access from outside use object eg. - rohan.phone_no\n"
   ]
  },
  {
   "cell_type": "code",
   "execution_count": 46,
   "id": "5e8702e6",
   "metadata": {},
   "outputs": [],
   "source": [
    "class pwskills3:\n",
    "    def __init__(som,phone_no,email_id,student_id):\n",
    "        som.phone_no=phone_no\n",
    "        som.email_id=email_id\n",
    "        som.student_id=student_id\n",
    "        \n",
    "    def return_student_detail(som):\n",
    "        return som.phone_no,som.email_id,som.student_id\n",
    "    "
   ]
  },
  {
   "cell_type": "markdown",
   "id": "e25ab28b",
   "metadata": {},
   "source": []
  },
  {
   "cell_type": "code",
   "execution_count": 47,
   "id": "eedeae11",
   "metadata": {},
   "outputs": [],
   "source": [
    "mohan=pwskills3(8457535,\"sfsfag\",42)"
   ]
  },
  {
   "cell_type": "code",
   "execution_count": 49,
   "id": "5058a563",
   "metadata": {},
   "outputs": [
    {
     "data": {
      "text/plain": [
       "'sfsfag'"
      ]
     },
     "execution_count": 49,
     "metadata": {},
     "output_type": "execute_result"
    }
   ],
   "source": [
    "# it means self is just a reference, you can use another word\n",
    "mohan.email_id"
   ]
  },
  {
   "cell_type": "code",
   "execution_count": 50,
   "id": "e4f416fb",
   "metadata": {},
   "outputs": [],
   "source": [
    "class pwskills4:\n",
    "    def __init__(self,phone_no,email_id,student_id):\n",
    "        self.phone_no=phone_no\n",
    "        self.email_id=email_id\n",
    "        self.student_id=student_id\n",
    "        \n",
    "    def return_student_detail(self):\n",
    "        return self.phone_no,self.email_id,self.student_id\n",
    "    "
   ]
  },
  {
   "cell_type": "code",
   "execution_count": 51,
   "id": "eca43859",
   "metadata": {},
   "outputs": [],
   "source": [
    "rohan=pwskills4(8492,\"eain@gmail.com\",48)"
   ]
  },
  {
   "cell_type": "markdown",
   "id": "932bb040",
   "metadata": {},
   "source": [
    "## Polymorphism"
   ]
  },
  {
   "cell_type": "code",
   "execution_count": 3,
   "id": "832da9e9",
   "metadata": {},
   "outputs": [],
   "source": [
    "# polymorphism means multiple role\n",
    "def test11(a,b):\n",
    "    return a+b"
   ]
  },
  {
   "cell_type": "code",
   "execution_count": 4,
   "id": "7ded77a7",
   "metadata": {},
   "outputs": [
    {
     "data": {
      "text/plain": [
       "9"
      ]
     },
     "execution_count": 4,
     "metadata": {},
     "output_type": "execute_result"
    }
   ],
   "source": [
    "test11(4,5)"
   ]
  },
  {
   "cell_type": "code",
   "execution_count": 5,
   "id": "87210ba7",
   "metadata": {},
   "outputs": [
    {
     "data": {
      "text/plain": [
       "'ramkumar'"
      ]
     },
     "execution_count": 5,
     "metadata": {},
     "output_type": "execute_result"
    }
   ],
   "source": [
    "test11(\"ram\",\"kumar\")"
   ]
  },
  {
   "cell_type": "code",
   "execution_count": 6,
   "id": "fcd0afdd",
   "metadata": {},
   "outputs": [],
   "source": [
    "# here the behaviour of function is changing according to data\n",
    "# in first case, addition operation\n",
    "# in second case, concatation\n",
    "# it means polymorphism"
   ]
  },
  {
   "cell_type": "code",
   "execution_count": 7,
   "id": "6af1920c",
   "metadata": {},
   "outputs": [],
   "source": [
    "class data_science:\n",
    "    def syllabus(self):\n",
    "        print(\"this is my method for data science syllabus\")"
   ]
  },
  {
   "cell_type": "code",
   "execution_count": 8,
   "id": "381e816e",
   "metadata": {},
   "outputs": [],
   "source": [
    "class web_dev:\n",
    "    def syllabus(self):\n",
    "        print(\"this is my method for web develop\")"
   ]
  },
  {
   "cell_type": "code",
   "execution_count": 9,
   "id": "0840c877",
   "metadata": {},
   "outputs": [],
   "source": [
    "def class_parcer(class_obj):\n",
    "    for i in class_obj:\n",
    "        i.syllabus()"
   ]
  },
  {
   "cell_type": "code",
   "execution_count": 10,
   "id": "c8f3d94c",
   "metadata": {},
   "outputs": [],
   "source": [
    "obj_data_sci=data_science()"
   ]
  },
  {
   "cell_type": "code",
   "execution_count": 11,
   "id": "f147d81a",
   "metadata": {},
   "outputs": [],
   "source": [
    "obj_web_dev=web_dev()"
   ]
  },
  {
   "cell_type": "code",
   "execution_count": 12,
   "id": "0c499065",
   "metadata": {},
   "outputs": [],
   "source": [
    "class_obj = [obj_data_sci,obj_web_dev]"
   ]
  },
  {
   "cell_type": "code",
   "execution_count": 13,
   "id": "b4f9b89e",
   "metadata": {},
   "outputs": [
    {
     "name": "stdout",
     "output_type": "stream",
     "text": [
      "this is my method for data science syllabus\n",
      "this is my method for web develop\n"
     ]
    }
   ],
   "source": [
    "class_parcer(class_obj)"
   ]
  },
  {
   "cell_type": "markdown",
   "id": "f55957f3",
   "metadata": {},
   "source": [
    "## Encapsulation"
   ]
  },
  {
   "cell_type": "code",
   "execution_count": 14,
   "id": "a94768ca",
   "metadata": {},
   "outputs": [],
   "source": [
    "class test12:\n",
    "    def __init__(self,a,b):\n",
    "        self.a=a\n",
    "        self.b=b\n",
    "        "
   ]
  },
  {
   "cell_type": "code",
   "execution_count": 16,
   "id": "1d3e43b4",
   "metadata": {},
   "outputs": [],
   "source": [
    "t=test12(2,3)"
   ]
  },
  {
   "cell_type": "code",
   "execution_count": 17,
   "id": "5593f9b8",
   "metadata": {},
   "outputs": [
    {
     "data": {
      "text/plain": [
       "2"
      ]
     },
     "execution_count": 17,
     "metadata": {},
     "output_type": "execute_result"
    }
   ],
   "source": [
    "t.a"
   ]
  },
  {
   "cell_type": "code",
   "execution_count": 18,
   "id": "9dbffeb1",
   "metadata": {},
   "outputs": [
    {
     "data": {
      "text/plain": [
       "3"
      ]
     },
     "execution_count": 18,
     "metadata": {},
     "output_type": "execute_result"
    }
   ],
   "source": [
    "t.b"
   ]
  },
  {
   "cell_type": "code",
   "execution_count": 19,
   "id": "d3eeaafa",
   "metadata": {},
   "outputs": [],
   "source": [
    "# this should not be allowed\n",
    "t.a=43"
   ]
  },
  {
   "cell_type": "code",
   "execution_count": 20,
   "id": "c583c96f",
   "metadata": {},
   "outputs": [
    {
     "data": {
      "text/plain": [
       "43"
      ]
     },
     "execution_count": 20,
     "metadata": {},
     "output_type": "execute_result"
    }
   ],
   "source": [
    "t.a"
   ]
  },
  {
   "cell_type": "code",
   "execution_count": 29,
   "id": "43406b07",
   "metadata": {},
   "outputs": [],
   "source": [
    "class car:\n",
    "    def __init__(self,year,make,model,speed):\n",
    "        self.__year=year\n",
    "        self.__make=make\n",
    "        self.__model=model\n",
    "        self.__speed=0\n",
    "        # by using underscore underscore (double underscore) we are making data private\n",
    "        # by using single underscore data is protected\n",
    "    def set_speed(self,speed):\n",
    "        self.__speed=0 if speed<0 else speed"
   ]
  },
  {
   "cell_type": "code",
   "execution_count": 32,
   "id": "ef00fae6",
   "metadata": {},
   "outputs": [],
   "source": [
    "obj_car=car(2021,\"landrover\",\"hommy\",100)"
   ]
  },
  {
   "cell_type": "code",
   "execution_count": 25,
   "id": "b846b1dc",
   "metadata": {},
   "outputs": [
    {
     "ename": "AttributeError",
     "evalue": "'car' object has no attribute '__year'",
     "output_type": "error",
     "traceback": [
      "\u001b[1;31m---------------------------------------------------------------------------\u001b[0m",
      "\u001b[1;31mAttributeError\u001b[0m                            Traceback (most recent call last)",
      "\u001b[1;32m~\\AppData\\Local\\Temp/ipykernel_23156/3231916150.py\u001b[0m in \u001b[0;36m<module>\u001b[1;34m\u001b[0m\n\u001b[1;32m----> 1\u001b[1;33m \u001b[0mobj_car\u001b[0m\u001b[1;33m.\u001b[0m\u001b[0m__year\u001b[0m\u001b[1;33m(\u001b[0m\u001b[1;33m)\u001b[0m\u001b[1;33m\u001b[0m\u001b[1;33m\u001b[0m\u001b[0m\n\u001b[0m",
      "\u001b[1;31mAttributeError\u001b[0m: 'car' object has no attribute '__year'"
     ]
    }
   ],
   "source": [
    "obj_car.__year()\n",
    "# because data is now private"
   ]
  },
  {
   "cell_type": "code",
   "execution_count": 26,
   "id": "bc94ec6c",
   "metadata": {},
   "outputs": [
    {
     "data": {
      "text/plain": [
       "2021"
      ]
     },
     "execution_count": 26,
     "metadata": {},
     "output_type": "execute_result"
    }
   ],
   "source": [
    "# to access it\n",
    "obj_car._car__year"
   ]
  },
  {
   "cell_type": "code",
   "execution_count": 27,
   "id": "440c19ec",
   "metadata": {},
   "outputs": [],
   "source": [
    "obj_car._car__year=2033"
   ]
  },
  {
   "cell_type": "code",
   "execution_count": 28,
   "id": "10e1e64b",
   "metadata": {},
   "outputs": [
    {
     "data": {
      "text/plain": [
       "2033"
      ]
     },
     "execution_count": 28,
     "metadata": {},
     "output_type": "execute_result"
    }
   ],
   "source": [
    "obj_car._car__year"
   ]
  },
  {
   "cell_type": "code",
   "execution_count": 33,
   "id": "01823be3",
   "metadata": {},
   "outputs": [
    {
     "ename": "AttributeError",
     "evalue": "'car' object has no attribute '_set_speed'",
     "output_type": "error",
     "traceback": [
      "\u001b[1;31m---------------------------------------------------------------------------\u001b[0m",
      "\u001b[1;31mAttributeError\u001b[0m                            Traceback (most recent call last)",
      "\u001b[1;32m~\\AppData\\Local\\Temp/ipykernel_23156/3743913385.py\u001b[0m in \u001b[0;36m<module>\u001b[1;34m\u001b[0m\n\u001b[1;32m----> 1\u001b[1;33m \u001b[0mobj_car\u001b[0m\u001b[1;33m.\u001b[0m\u001b[0m_set_speed\u001b[0m\u001b[1;33m(\u001b[0m\u001b[1;33m-\u001b[0m\u001b[1;36m90\u001b[0m\u001b[1;33m)\u001b[0m\u001b[1;33m\u001b[0m\u001b[1;33m\u001b[0m\u001b[0m\n\u001b[0m",
      "\u001b[1;31mAttributeError\u001b[0m: 'car' object has no attribute '_set_speed'"
     ]
    }
   ],
   "source": [
    "obj_car._set_speed(-90)"
   ]
  },
  {
   "cell_type": "code",
   "execution_count": 38,
   "id": "8c6c516e",
   "metadata": {},
   "outputs": [],
   "source": [
    "class car:\n",
    "    def __init__(self,year,make,model,speed):\n",
    "        self.__year=year\n",
    "        self.__make=make\n",
    "        self.__model=model\n",
    "        self.__speed=0\n",
    "        # by using underscore underscore we are making data private\n",
    "    def set_speed(self,speed):\n",
    "        self.__speed=0 if speed<0 else speed\n",
    "        \n",
    "    def get_speed(self):\n",
    "        return self.__speed"
   ]
  },
  {
   "cell_type": "code",
   "execution_count": 39,
   "id": "6626f875",
   "metadata": {},
   "outputs": [],
   "source": [
    "obj_car=car(3400,\"honda\",\"vista\",67)"
   ]
  },
  {
   "cell_type": "code",
   "execution_count": 40,
   "id": "3ddcecc0",
   "metadata": {},
   "outputs": [],
   "source": [
    "# by this way user can put data\n",
    "obj_car.set_speed(-90)"
   ]
  },
  {
   "cell_type": "code",
   "execution_count": 41,
   "id": "c41b8bbc",
   "metadata": {},
   "outputs": [
    {
     "data": {
      "text/plain": [
       "0"
      ]
     },
     "execution_count": 41,
     "metadata": {},
     "output_type": "execute_result"
    }
   ],
   "source": [
    "# creater can check data \n",
    "obj_car._car__speed"
   ]
  },
  {
   "cell_type": "code",
   "execution_count": 43,
   "id": "1cc23bd8",
   "metadata": {},
   "outputs": [
    {
     "data": {
      "text/plain": [
       "0"
      ]
     },
     "execution_count": 43,
     "metadata": {},
     "output_type": "execute_result"
    }
   ],
   "source": [
    "# for user to access\n",
    "obj_car.get_speed()"
   ]
  },
  {
   "cell_type": "code",
   "execution_count": 44,
   "id": "a8ca9b08",
   "metadata": {},
   "outputs": [],
   "source": [
    "class bank_account:\n",
    "    def __init__(self,balance):\n",
    "        self.__balance=balance\n",
    "        \n",
    "    def deposit(self,amount):\n",
    "        self.__balance=self.__balance+amount\n",
    "        \n",
    "    def withdraw(self,amount):\n",
    "        if self.__balance >= amount:\n",
    "            self.__balance=self.__balance-amount\n",
    "            return True\n",
    "        else:\n",
    "            return False\n",
    "        \n",
    "    def get_balance(self):\n",
    "        return self.__balance\n",
    "        \n",
    "    "
   ]
  },
  {
   "cell_type": "code",
   "execution_count": 45,
   "id": "d6e694a5",
   "metadata": {},
   "outputs": [],
   "source": [
    "obj_bank=bank_account(1000)"
   ]
  },
  {
   "cell_type": "code",
   "execution_count": 46,
   "id": "e92e5ce0",
   "metadata": {},
   "outputs": [
    {
     "data": {
      "text/plain": [
       "1000"
      ]
     },
     "execution_count": 46,
     "metadata": {},
     "output_type": "execute_result"
    }
   ],
   "source": [
    "obj_bank.get_balance()"
   ]
  },
  {
   "cell_type": "code",
   "execution_count": 47,
   "id": "e7ba6e17",
   "metadata": {},
   "outputs": [],
   "source": [
    "obj_bank.deposit(4000)"
   ]
  },
  {
   "cell_type": "code",
   "execution_count": 49,
   "id": "999a6292",
   "metadata": {},
   "outputs": [
    {
     "data": {
      "text/plain": [
       "5000"
      ]
     },
     "execution_count": 49,
     "metadata": {},
     "output_type": "execute_result"
    }
   ],
   "source": [
    "obj_bank.get_balance()"
   ]
  },
  {
   "cell_type": "code",
   "execution_count": 50,
   "id": "01378a5c",
   "metadata": {},
   "outputs": [
    {
     "data": {
      "text/plain": [
       "False"
      ]
     },
     "execution_count": 50,
     "metadata": {},
     "output_type": "execute_result"
    }
   ],
   "source": [
    "obj_bank.withdraw(10000)"
   ]
  },
  {
   "cell_type": "markdown",
   "id": "857d888d",
   "metadata": {},
   "source": [
    "## Inheritance"
   ]
  },
  {
   "cell_type": "code",
   "execution_count": 51,
   "id": "35158c3c",
   "metadata": {},
   "outputs": [],
   "source": [
    "class parent:\n",
    "    def test_parent(self):\n",
    "        print(\"This is my parent class\")"
   ]
  },
  {
   "cell_type": "code",
   "execution_count": 52,
   "id": "5d637b1d",
   "metadata": {},
   "outputs": [],
   "source": [
    "class child(parent):\n",
    "    pass"
   ]
  },
  {
   "cell_type": "code",
   "execution_count": 53,
   "id": "18b99137",
   "metadata": {},
   "outputs": [],
   "source": [
    "obj_child=child()"
   ]
  },
  {
   "cell_type": "code",
   "execution_count": 54,
   "id": "eb2fe6fa",
   "metadata": {},
   "outputs": [
    {
     "name": "stdout",
     "output_type": "stream",
     "text": [
      "This is my parent class\n"
     ]
    }
   ],
   "source": [
    "obj_child.test_parent()"
   ]
  },
  {
   "cell_type": "code",
   "execution_count": 43,
   "id": "00f7ca69",
   "metadata": {},
   "outputs": [],
   "source": [
    "# Multiple and multi label inheritance\n",
    "class class1:\n",
    "    def test_class1(self):\n",
    "        print(\"this is my class1\")"
   ]
  },
  {
   "cell_type": "code",
   "execution_count": 44,
   "id": "1401a570",
   "metadata": {},
   "outputs": [],
   "source": [
    "class class2(class1):\n",
    "    def test_class2(self):\n",
    "        print(\"this is my class2\")"
   ]
  },
  {
   "cell_type": "code",
   "execution_count": 45,
   "id": "6e561b54",
   "metadata": {},
   "outputs": [],
   "source": [
    "class class3(class2):\n",
    "    def test_class3(self):\n",
    "        print(\"this is my class3\")"
   ]
  },
  {
   "cell_type": "code",
   "execution_count": 46,
   "id": "0058d9e3",
   "metadata": {},
   "outputs": [],
   "source": [
    "class3_obj=class3()"
   ]
  },
  {
   "cell_type": "code",
   "execution_count": 62,
   "id": "70da5847",
   "metadata": {},
   "outputs": [
    {
     "name": "stdout",
     "output_type": "stream",
     "text": [
      "this is my class1\n"
     ]
    }
   ],
   "source": [
    "class3_obj."
   ]
  },
  {
   "cell_type": "code",
   "execution_count": 63,
   "id": "6d43a06d",
   "metadata": {},
   "outputs": [
    {
     "name": "stdout",
     "output_type": "stream",
     "text": [
      "this is my class2\n"
     ]
    }
   ],
   "source": [
    "class3_obj.test_class2()"
   ]
  },
  {
   "cell_type": "code",
   "execution_count": 64,
   "id": "ad6a27d5",
   "metadata": {},
   "outputs": [
    {
     "name": "stdout",
     "output_type": "stream",
     "text": [
      "this is my class3\n"
     ]
    }
   ],
   "source": [
    "class3_obj.test_class3()"
   ]
  },
  {
   "cell_type": "code",
   "execution_count": 65,
   "id": "cdebb1f4",
   "metadata": {},
   "outputs": [],
   "source": [
    "class class1:\n",
    "    def test_class1(self):\n",
    "        print(\"this is my class1\")"
   ]
  },
  {
   "cell_type": "code",
   "execution_count": 66,
   "id": "b1a0650b",
   "metadata": {},
   "outputs": [],
   "source": [
    "class class2:\n",
    "    def test_class2(self):\n",
    "        print(\"this is my class2\")"
   ]
  },
  {
   "cell_type": "code",
   "execution_count": 67,
   "id": "f7b59927",
   "metadata": {},
   "outputs": [],
   "source": [
    "class class3(class1,class2):\n",
    "    pass"
   ]
  },
  {
   "cell_type": "code",
   "execution_count": 68,
   "id": "716e4b4f",
   "metadata": {},
   "outputs": [],
   "source": [
    "class3_obj=class3()"
   ]
  },
  {
   "cell_type": "code",
   "execution_count": 69,
   "id": "0b1007b1",
   "metadata": {},
   "outputs": [
    {
     "name": "stdout",
     "output_type": "stream",
     "text": [
      "this is my class1\n"
     ]
    }
   ],
   "source": [
    "class3_obj.test_class1()"
   ]
  },
  {
   "cell_type": "markdown",
   "id": "11273c29",
   "metadata": {},
   "source": [
    "## Abstraction"
   ]
  },
  {
   "cell_type": "code",
   "execution_count": 72,
   "id": "45be512d",
   "metadata": {},
   "outputs": [],
   "source": [
    "import abc\n",
    "\n",
    "class pwskills:\n",
    "    @abc.abstractmethod\n",
    "    def student_details(self):\n",
    "        pass\n",
    "    \n",
    "    @abc.abstractmethod\n",
    "    def student_assignment(self):\n",
    "        pass\n",
    "    \n",
    "    @abc.abstractmethod\n",
    "    def student_marks(self):\n",
    "        pass"
   ]
  },
  {
   "cell_type": "code",
   "execution_count": 73,
   "id": "2f79390e",
   "metadata": {},
   "outputs": [],
   "source": [
    "class data_science(pwskills):\n",
    "    def student_details(self):\n",
    "        return \"return detail of student data science\"\n",
    "    \n",
    "    def student_assignment(self):\n",
    "        return \"return detail of assignment data science \""
   ]
  },
  {
   "cell_type": "code",
   "execution_count": 74,
   "id": "57f91bbf",
   "metadata": {},
   "outputs": [],
   "source": [
    "class web_dev(pwskills):\n",
    "    def student_details(self):\n",
    "        return \"return detail of student web_Dev\"\n",
    "    \n",
    "    def student_assignment(self):\n",
    "        return \"return detail of assignment web_Dev\""
   ]
  },
  {
   "cell_type": "markdown",
   "id": "dce02271",
   "metadata": {},
   "source": [
    "## Decorator"
   ]
  },
  {
   "cell_type": "code",
   "execution_count": 3,
   "id": "f8f29818",
   "metadata": {},
   "outputs": [],
   "source": [
    "def test31():\n",
    "    print(\"start of function\")\n",
    "    print(4+4)\n",
    "    print(\"end of function\")"
   ]
  },
  {
   "cell_type": "code",
   "execution_count": 4,
   "id": "3aa24848",
   "metadata": {},
   "outputs": [
    {
     "name": "stdout",
     "output_type": "stream",
     "text": [
      "start of function\n",
      "8\n",
      "end of function\n"
     ]
    }
   ],
   "source": [
    "test31()"
   ]
  },
  {
   "cell_type": "code",
   "execution_count": 1,
   "id": "c62c26bc",
   "metadata": {},
   "outputs": [],
   "source": [
    "## call print for every function so insted of writing everytime use decorator\n",
    "def deco(func):\n",
    "    def inner_deco():\n",
    "        print(\"start of function\")\n",
    "        func()\n",
    "        print(\"end of function\")\n",
    "    return inner_deco "
   ]
  },
  {
   "cell_type": "code",
   "execution_count": 4,
   "id": "f84e0faf",
   "metadata": {},
   "outputs": [],
   "source": [
    "@deco\n",
    "def test32():\n",
    "    print(8+9)"
   ]
  },
  {
   "cell_type": "code",
   "execution_count": 5,
   "id": "7705b7e4",
   "metadata": {},
   "outputs": [
    {
     "name": "stdout",
     "output_type": "stream",
     "text": [
      "start of function\n",
      "17\n",
      "end of function\n"
     ]
    }
   ],
   "source": [
    "test32()"
   ]
  },
  {
   "cell_type": "code",
   "execution_count": 10,
   "id": "a79f9efe",
   "metadata": {},
   "outputs": [],
   "source": [
    "# Decorator for get time require for execution\n",
    "import time\n",
    "def timer_test(func):\n",
    "    def timer_test_inner():\n",
    "        start=time.time()\n",
    "        func()\n",
    "        end=time.time()\n",
    "        print(end-start)\n",
    "    return timer_test_inner"
   ]
  },
  {
   "cell_type": "code",
   "execution_count": 13,
   "id": "db6a2d6b",
   "metadata": {},
   "outputs": [],
   "source": [
    "@timer_test\n",
    "def test33():\n",
    "    print(7678+897)"
   ]
  },
  {
   "cell_type": "code",
   "execution_count": 14,
   "id": "f1e6922f",
   "metadata": {},
   "outputs": [
    {
     "name": "stdout",
     "output_type": "stream",
     "text": [
      "8575\n",
      "0.0\n"
     ]
    }
   ],
   "source": [
    "test33()"
   ]
  },
  {
   "cell_type": "code",
   "execution_count": 15,
   "id": "728297d5",
   "metadata": {},
   "outputs": [],
   "source": [
    "@timer_test\n",
    "def test34():\n",
    "    for i in range(100000000):\n",
    "        pass"
   ]
  },
  {
   "cell_type": "code",
   "execution_count": 16,
   "id": "e9a70b96",
   "metadata": {},
   "outputs": [
    {
     "name": "stdout",
     "output_type": "stream",
     "text": [
      "1.3819684982299805\n"
     ]
    }
   ],
   "source": [
    "test34()"
   ]
  },
  {
   "cell_type": "markdown",
   "id": "b5a2b43a",
   "metadata": {},
   "source": [
    "## Class Method"
   ]
  },
  {
   "cell_type": "code",
   "execution_count": 18,
   "id": "7d59bf6f",
   "metadata": {},
   "outputs": [],
   "source": [
    "class pwskill:\n",
    "    def __init__(self,name,email):\n",
    "        self.name=name\n",
    "        self.email=email\n",
    "        \n",
    "    def student_detail(self):\n",
    "        print(self.name, self.email)"
   ]
  },
  {
   "cell_type": "code",
   "execution_count": 20,
   "id": "dee08100",
   "metadata": {},
   "outputs": [],
   "source": [
    "pw=pwskill(\"ram\",\"ram@gmal.com\")"
   ]
  },
  {
   "cell_type": "code",
   "execution_count": 21,
   "id": "eec54a98",
   "metadata": {},
   "outputs": [
    {
     "data": {
      "text/plain": [
       "'ram'"
      ]
     },
     "execution_count": 21,
     "metadata": {},
     "output_type": "execute_result"
    }
   ],
   "source": [
    "pw.name"
   ]
  },
  {
   "cell_type": "code",
   "execution_count": 23,
   "id": "1ed5cf85",
   "metadata": {},
   "outputs": [
    {
     "name": "stdout",
     "output_type": "stream",
     "text": [
      "ram ram@gmal.com\n"
     ]
    }
   ],
   "source": [
    "pw.student_detail()"
   ]
  },
  {
   "cell_type": "code",
   "execution_count": 27,
   "id": "64ced6fc",
   "metadata": {},
   "outputs": [],
   "source": [
    "# pass data by another method\n",
    "class pwskill1:\n",
    "    def __init__(self,name,email):\n",
    "        self.name=name\n",
    "        self.email=email\n",
    "        \n",
    "    @classmethod    \n",
    "    def details(cls,name,email):\n",
    "        return cls(name,email)\n",
    "        \n",
    "    def student_detail(self):\n",
    "        print(self.name, self.email)"
   ]
  },
  {
   "cell_type": "code",
   "execution_count": 29,
   "id": "6358f170",
   "metadata": {},
   "outputs": [],
   "source": [
    "pw1=pwskill1.details(\"ram\",\"adfaf\")"
   ]
  },
  {
   "cell_type": "code",
   "execution_count": 30,
   "id": "cd0f4b5f",
   "metadata": {},
   "outputs": [
    {
     "data": {
      "text/plain": [
       "'ram'"
      ]
     },
     "execution_count": 30,
     "metadata": {},
     "output_type": "execute_result"
    }
   ],
   "source": [
    "pw1.name"
   ]
  },
  {
   "cell_type": "code",
   "execution_count": 31,
   "id": "555e9c32",
   "metadata": {},
   "outputs": [
    {
     "name": "stdout",
     "output_type": "stream",
     "text": [
      "ram adfaf\n"
     ]
    }
   ],
   "source": [
    "pw1.student_detail()"
   ]
  },
  {
   "cell_type": "code",
   "execution_count": 37,
   "id": "656d8c33",
   "metadata": {},
   "outputs": [],
   "source": [
    "class pwskill2:\n",
    "    \n",
    "    mobile_no=9124520\n",
    "    \n",
    "    def __init__(self,name,email):\n",
    "        self.name=name\n",
    "        self.email=email\n",
    "        \n",
    "    @classmethod    \n",
    "    def details(cls,name2,email2):\n",
    "        return cls(name2,email2)\n",
    "        \n",
    "    def student_detail(self):\n",
    "        print(self.name, self.email,pwskill2.mobile_no)"
   ]
  },
  {
   "cell_type": "code",
   "execution_count": 38,
   "id": "82244412",
   "metadata": {},
   "outputs": [
    {
     "data": {
      "text/plain": [
       "9124520"
      ]
     },
     "execution_count": 38,
     "metadata": {},
     "output_type": "execute_result"
    }
   ],
   "source": [
    "# when you have class object you don't need to create an object\n",
    "pwskill2.mobile_no"
   ]
  },
  {
   "cell_type": "code",
   "execution_count": 39,
   "id": "5b7605a7",
   "metadata": {},
   "outputs": [],
   "source": [
    "# access using class method\n",
    "pw2=pwskill2.details(\"sohan\",\"sohan12@gmail.com\")"
   ]
  },
  {
   "cell_type": "code",
   "execution_count": 40,
   "id": "4cb4e6b5",
   "metadata": {},
   "outputs": [
    {
     "name": "stdout",
     "output_type": "stream",
     "text": [
      "sohan sohan12@gmail.com 9124520\n"
     ]
    }
   ],
   "source": [
    "pw2.student_detail()"
   ]
  },
  {
   "cell_type": "code",
   "execution_count": 41,
   "id": "2a870f3b",
   "metadata": {},
   "outputs": [],
   "source": [
    "# access using object or instance\n",
    "pw2_obj=pwskill2(\"rohan\",\"rohan@gmail\")"
   ]
  },
  {
   "cell_type": "code",
   "execution_count": 42,
   "id": "d9a003c7",
   "metadata": {},
   "outputs": [
    {
     "name": "stdout",
     "output_type": "stream",
     "text": [
      "rohan rohan@gmail 9124520\n"
     ]
    }
   ],
   "source": [
    "pw2_obj.student_detail()"
   ]
  },
  {
   "cell_type": "code",
   "execution_count": 43,
   "id": "a92d41db",
   "metadata": {},
   "outputs": [],
   "source": [
    "class pwskill3:\n",
    "    \n",
    "    mobile_no=9124520\n",
    "    \n",
    "    def __init__(self,name,email):\n",
    "        self.name=name\n",
    "        self.email=email\n",
    "        \n",
    "    @classmethod\n",
    "    def chang_no(cls,mobile):\n",
    "        pwskill3.mobile_no = mobile\n",
    "        \n",
    "    @classmethod    \n",
    "    def details(cls,name2,email2):\n",
    "        return cls(name2,email2)\n",
    "        \n",
    "    def student_detail(self):\n",
    "        print(self.name, self.email,pwskill2.mobile_no)"
   ]
  },
  {
   "cell_type": "code",
   "execution_count": 44,
   "id": "7e783291",
   "metadata": {},
   "outputs": [
    {
     "data": {
      "text/plain": [
       "9124520"
      ]
     },
     "execution_count": 44,
     "metadata": {},
     "output_type": "execute_result"
    }
   ],
   "source": [
    "pwskill3.mobile_no"
   ]
  },
  {
   "cell_type": "code",
   "execution_count": 45,
   "id": "a0e696bf",
   "metadata": {},
   "outputs": [],
   "source": [
    "pwskill3.chang_no(8979939)"
   ]
  },
  {
   "cell_type": "code",
   "execution_count": 46,
   "id": "f84bb91e",
   "metadata": {},
   "outputs": [
    {
     "data": {
      "text/plain": [
       "8979939"
      ]
     },
     "execution_count": 46,
     "metadata": {},
     "output_type": "execute_result"
    }
   ],
   "source": [
    "pwskill3.mobile_no"
   ]
  },
  {
   "cell_type": "code",
   "execution_count": 47,
   "id": "7f6412fa",
   "metadata": {},
   "outputs": [],
   "source": [
    "# class method basically means binding to class name so we can directly access with class name"
   ]
  },
  {
   "cell_type": "code",
   "execution_count": 48,
   "id": "ee6b68c5",
   "metadata": {},
   "outputs": [],
   "source": [
    "pw3_obj=pwskill3(\"you\",\"shks@gmail.com\")"
   ]
  },
  {
   "cell_type": "code",
   "execution_count": 49,
   "id": "60fe81a1",
   "metadata": {},
   "outputs": [
    {
     "data": {
      "text/plain": [
       "<bound method pwskill3.details of <class '__main__.pwskill3'>>"
      ]
     },
     "execution_count": 49,
     "metadata": {},
     "output_type": "execute_result"
    }
   ],
   "source": [
    "pw3_obj.details"
   ]
  },
  {
   "cell_type": "code",
   "execution_count": 50,
   "id": "5712ad31",
   "metadata": {},
   "outputs": [
    {
     "name": "stdout",
     "output_type": "stream",
     "text": [
      "you shks@gmail.com 9124520\n"
     ]
    }
   ],
   "source": [
    "pw3_obj.student_detail()"
   ]
  },
  {
   "cell_type": "code",
   "execution_count": 51,
   "id": "7d141628",
   "metadata": {},
   "outputs": [
    {
     "data": {
      "text/plain": [
       "'you'"
      ]
     },
     "execution_count": 51,
     "metadata": {},
     "output_type": "execute_result"
    }
   ],
   "source": [
    "pw3_obj.name"
   ]
  },
  {
   "cell_type": "code",
   "execution_count": 52,
   "id": "45135ada",
   "metadata": {},
   "outputs": [],
   "source": [
    "pw3_obj.chang_no(69483)"
   ]
  },
  {
   "cell_type": "code",
   "execution_count": 53,
   "id": "37175c4d",
   "metadata": {},
   "outputs": [
    {
     "data": {
      "text/plain": [
       "69483"
      ]
     },
     "execution_count": 53,
     "metadata": {},
     "output_type": "execute_result"
    }
   ],
   "source": [
    "pw3_obj.mobile_no"
   ]
  },
  {
   "cell_type": "code",
   "execution_count": 54,
   "id": "168c3e0c",
   "metadata": {},
   "outputs": [],
   "source": [
    "class pwskill4:\n",
    "    \n",
    "    mobile_no=9124520\n",
    "    \n",
    "    def __init__(self,name,email):\n",
    "        self.name=name\n",
    "        self.email=email\n",
    "        \n",
    "    @classmethod\n",
    "    def chang_no(cls,mobile):\n",
    "        pwskill3.mobile_no = mobile\n",
    "        \n",
    "    @classmethod    \n",
    "    def details(cls,name2,email2):\n",
    "        return cls(name2,email2)\n",
    "        \n",
    "    def student_detail(self):\n",
    "        print(self.name, self.email,pwskill2.mobile_no)"
   ]
  },
  {
   "cell_type": "code",
   "execution_count": 55,
   "id": "8ca44da8",
   "metadata": {},
   "outputs": [],
   "source": [
    "def course_details(cls,course_name):\n",
    "    print(\"course details\",course_name)"
   ]
  },
  {
   "cell_type": "code",
   "execution_count": 59,
   "id": "ad26dd58",
   "metadata": {},
   "outputs": [],
   "source": [
    "# To assign external function to class\n",
    "pwskill4.course_details=classmethod(course_details)"
   ]
  },
  {
   "cell_type": "code",
   "execution_count": 58,
   "id": "c73a60fb",
   "metadata": {},
   "outputs": [
    {
     "name": "stdout",
     "output_type": "stream",
     "text": [
      "course details dara\n"
     ]
    }
   ],
   "source": [
    "pwskill4.course_details(\"dara\")"
   ]
  },
  {
   "cell_type": "code",
   "execution_count": 60,
   "id": "dd091f5c",
   "metadata": {},
   "outputs": [],
   "source": [
    "pw4_obj=pwskill4(\"ram\",\"ram@gm\")"
   ]
  },
  {
   "cell_type": "code",
   "execution_count": 61,
   "id": "16440d10",
   "metadata": {},
   "outputs": [
    {
     "name": "stdout",
     "output_type": "stream",
     "text": [
      "course details web dev\n"
     ]
    }
   ],
   "source": [
    "pw4_obj.course_details(\"web dev\")"
   ]
  },
  {
   "cell_type": "code",
   "execution_count": 62,
   "id": "aea2c9ff",
   "metadata": {},
   "outputs": [],
   "source": [
    "# To delete a function from the class\n",
    "del pwskill4.chang_no"
   ]
  },
  {
   "cell_type": "code",
   "execution_count": 63,
   "id": "fcccc49b",
   "metadata": {},
   "outputs": [
    {
     "ename": "AttributeError",
     "evalue": "type object 'pwskill4' has no attribute 'chang_no'",
     "output_type": "error",
     "traceback": [
      "\u001b[1;31m---------------------------------------------------------------------------\u001b[0m",
      "\u001b[1;31mAttributeError\u001b[0m                            Traceback (most recent call last)",
      "\u001b[1;32m~\\AppData\\Local\\Temp/ipykernel_31692/4234674977.py\u001b[0m in \u001b[0;36m<module>\u001b[1;34m\u001b[0m\n\u001b[1;32m----> 1\u001b[1;33m \u001b[0mpwskill4\u001b[0m\u001b[1;33m.\u001b[0m\u001b[0mchang_no\u001b[0m\u001b[1;33m(\u001b[0m\u001b[1;36m327884\u001b[0m\u001b[1;33m)\u001b[0m\u001b[1;33m\u001b[0m\u001b[1;33m\u001b[0m\u001b[0m\n\u001b[0m",
      "\u001b[1;31mAttributeError\u001b[0m: type object 'pwskill4' has no attribute 'chang_no'"
     ]
    }
   ],
   "source": [
    "pwskill4.chang_no(327884)"
   ]
  },
  {
   "cell_type": "code",
   "execution_count": 65,
   "id": "10ffeafb",
   "metadata": {},
   "outputs": [],
   "source": [
    "delattr(pwskill4,\"student_detail\")"
   ]
  },
  {
   "cell_type": "code",
   "execution_count": 67,
   "id": "10c2baa8",
   "metadata": {},
   "outputs": [
    {
     "ename": "AttributeError",
     "evalue": "type object 'pwskill4' has no attribute 'student_detail'",
     "output_type": "error",
     "traceback": [
      "\u001b[1;31m---------------------------------------------------------------------------\u001b[0m",
      "\u001b[1;31mAttributeError\u001b[0m                            Traceback (most recent call last)",
      "\u001b[1;32m~\\AppData\\Local\\Temp/ipykernel_31692/390204863.py\u001b[0m in \u001b[0;36m<module>\u001b[1;34m\u001b[0m\n\u001b[1;32m----> 1\u001b[1;33m \u001b[0mpwskill4\u001b[0m\u001b[1;33m.\u001b[0m\u001b[0mstudent_detail\u001b[0m\u001b[1;33m(\u001b[0m\u001b[1;33m)\u001b[0m\u001b[1;33m\u001b[0m\u001b[1;33m\u001b[0m\u001b[0m\n\u001b[0m",
      "\u001b[1;31mAttributeError\u001b[0m: type object 'pwskill4' has no attribute 'student_detail'"
     ]
    }
   ],
   "source": [
    "pwskill4.student_detail()"
   ]
  },
  {
   "cell_type": "code",
   "execution_count": 72,
   "id": "cc7234fd",
   "metadata": {},
   "outputs": [],
   "source": [
    "class pwm:\n",
    "    \n",
    "    def __init__(self,name,rollno):\n",
    "        self.name=name\n",
    "        self.rollno=rollno\n",
    "        \n",
    "    def details(self):\n",
    "        print(self.name,self.rollno)"
   ]
  },
  {
   "cell_type": "code",
   "execution_count": 73,
   "id": "25046c8d",
   "metadata": {},
   "outputs": [],
   "source": [
    "pwm1=pwm(\"ram\",23454)"
   ]
  },
  {
   "cell_type": "code",
   "execution_count": 76,
   "id": "0d593579",
   "metadata": {},
   "outputs": [
    {
     "data": {
      "text/plain": [
       "'ram'"
      ]
     },
     "execution_count": 76,
     "metadata": {},
     "output_type": "execute_result"
    }
   ],
   "source": [
    "pwm1.name"
   ]
  },
  {
   "cell_type": "code",
   "execution_count": 78,
   "id": "b08daf1b",
   "metadata": {},
   "outputs": [
    {
     "name": "stdout",
     "output_type": "stream",
     "text": [
      "ram 23454\n"
     ]
    }
   ],
   "source": [
    "pwm1.details()"
   ]
  },
  {
   "cell_type": "code",
   "execution_count": 80,
   "id": "9eb79c8a",
   "metadata": {},
   "outputs": [],
   "source": [
    "class pwm1:\n",
    "    \n",
    "    def __init__(self,name,rollno):\n",
    "        self.name=name\n",
    "        self.rollno=rollno\n",
    "        \n",
    "    @classmethod\n",
    "    def me_detail(cls,name,rollno):\n",
    "        return cls(name,rollno)\n",
    "        \n",
    "    def details(self):\n",
    "        print(self.name,self.rollno)"
   ]
  },
  {
   "cell_type": "code",
   "execution_count": 85,
   "id": "c0de4f1b",
   "metadata": {},
   "outputs": [],
   "source": [
    "vl1=pwm1.me_detail(\"sjkd\",768)"
   ]
  },
  {
   "cell_type": "code",
   "execution_count": 87,
   "id": "12ecfe0f",
   "metadata": {},
   "outputs": [
    {
     "name": "stdout",
     "output_type": "stream",
     "text": [
      "sjkd 768\n"
     ]
    }
   ],
   "source": [
    "vl1.details()"
   ]
  },
  {
   "cell_type": "code",
   "execution_count": 88,
   "id": "de079d5f",
   "metadata": {},
   "outputs": [],
   "source": [
    "# So bascially class method is another method to put data inside the class insted of init method"
   ]
  },
  {
   "cell_type": "markdown",
   "id": "745b0468",
   "metadata": {},
   "source": [
    "## Static Method"
   ]
  },
  {
   "cell_type": "code",
   "execution_count": 92,
   "id": "8cc7e898",
   "metadata": {},
   "outputs": [],
   "source": [
    "class pwskills:\n",
    "    def student_details(self,name,mail_id,number):\n",
    "        print(name,mail_id,number)"
   ]
  },
  {
   "cell_type": "code",
   "execution_count": 93,
   "id": "0e4e2d41",
   "metadata": {},
   "outputs": [],
   "source": [
    "pw=pwskills()"
   ]
  },
  {
   "cell_type": "code",
   "execution_count": 94,
   "id": "5949695e",
   "metadata": {},
   "outputs": [
    {
     "name": "stdout",
     "output_type": "stream",
     "text": [
      "sudh d@gmail.com 32847\n"
     ]
    }
   ],
   "source": [
    "pw.student_details(\"sudh\",\"d@gmail.com\",32847)"
   ]
  },
  {
   "cell_type": "code",
   "execution_count": 97,
   "id": "24cd4726",
   "metadata": {},
   "outputs": [],
   "source": [
    "class pwskills1:\n",
    "    def student_details(self,name,mail_id,number):\n",
    "        print(name,mail_id,number)\n",
    "        \n",
    "    @staticmethod\n",
    "    def mentor_class(list_mentor):\n",
    "        print(list_mentor)\n",
    "        \n",
    "    def mentor(self,mentor_list):\n",
    "        print(mentor_list)"
   ]
  },
  {
   "cell_type": "code",
   "execution_count": 98,
   "id": "2adcc2be",
   "metadata": {},
   "outputs": [
    {
     "name": "stdout",
     "output_type": "stream",
     "text": [
      "['sudh', 'krish']\n"
     ]
    }
   ],
   "source": [
    "pwskills1.mentor_class([\"sudh\",\"krish\"])"
   ]
  },
  {
   "cell_type": "code",
   "execution_count": 99,
   "id": "f99c429d",
   "metadata": {},
   "outputs": [],
   "source": [
    "pw1=pwskills1()"
   ]
  },
  {
   "cell_type": "code",
   "execution_count": 101,
   "id": "7033c223",
   "metadata": {},
   "outputs": [
    {
     "name": "stdout",
     "output_type": "stream",
     "text": [
      "['sudh', 'keis']\n"
     ]
    }
   ],
   "source": [
    "pw1.mentor([\"sudh\",\"keis\"])"
   ]
  },
  {
   "cell_type": "code",
   "execution_count": 102,
   "id": "289027f4",
   "metadata": {},
   "outputs": [
    {
     "name": "stdout",
     "output_type": "stream",
     "text": [
      "['sudh', 'kris']\n"
     ]
    }
   ],
   "source": [
    "pw1.mentor_class([\"sudh\",\"kris\"])"
   ]
  },
  {
   "cell_type": "code",
   "execution_count": 103,
   "id": "a3009389",
   "metadata": {},
   "outputs": [
    {
     "ename": "TypeError",
     "evalue": "mentor() missing 1 required positional argument: 'mentor_list'",
     "output_type": "error",
     "traceback": [
      "\u001b[1;31m---------------------------------------------------------------------------\u001b[0m",
      "\u001b[1;31mTypeError\u001b[0m                                 Traceback (most recent call last)",
      "\u001b[1;32m~\\AppData\\Local\\Temp/ipykernel_31692/2868903106.py\u001b[0m in \u001b[0;36m<module>\u001b[1;34m\u001b[0m\n\u001b[1;32m----> 1\u001b[1;33m \u001b[0mpwskills1\u001b[0m\u001b[1;33m.\u001b[0m\u001b[0mmentor\u001b[0m\u001b[1;33m(\u001b[0m\u001b[1;33m[\u001b[0m\u001b[1;34m\"sudh\"\u001b[0m\u001b[1;33m,\u001b[0m\u001b[1;34m\"js\"\u001b[0m\u001b[1;33m]\u001b[0m\u001b[1;33m)\u001b[0m\u001b[1;33m\u001b[0m\u001b[1;33m\u001b[0m\u001b[0m\n\u001b[0m",
      "\u001b[1;31mTypeError\u001b[0m: mentor() missing 1 required positional argument: 'mentor_list'"
     ]
    }
   ],
   "source": [
    "pwskills1.mentor([\"sudh\",\"js\"])"
   ]
  },
  {
   "cell_type": "code",
   "execution_count": 104,
   "id": "bcdb9218",
   "metadata": {},
   "outputs": [],
   "source": [
    "class pwskills2:\n",
    "    def student_details(self,name,mail_id,number):\n",
    "        print(name,mail_id,number)\n",
    "    \n",
    "    @staticmethod\n",
    "    def mentor_mail_id(mail_id):\n",
    "        print(mail_id)\n",
    "    \n",
    "    @staticmethod\n",
    "    def mentor_class(list_mentor):\n",
    "        print(list_mentor)\n",
    "        pwskills2,mentor_mail_id([\"kris@gmai\",\"sudh@gmail\"])\n",
    "        \n",
    "    @classmethod\n",
    "    def class_name(cls,class_name):\n",
    "        cls.mentor_class([\"sufh\",\"sfsa\"])\n",
    "        \n",
    "    def mentor(self,mentor_list):\n",
    "        print(mentor_list)\n",
    "        self.mentor_class([\"kris\",\"sudh\"])"
   ]
  },
  {
   "cell_type": "code",
   "execution_count": 105,
   "id": "defecaf9",
   "metadata": {},
   "outputs": [],
   "source": [
    "pw2=pwskills2()"
   ]
  },
  {
   "cell_type": "code",
   "execution_count": 106,
   "id": "0be13d1a",
   "metadata": {},
   "outputs": [
    {
     "name": "stdout",
     "output_type": "stream",
     "text": [
      "mohan sfsfs 789008\n"
     ]
    }
   ],
   "source": [
    "pw2.student_details(\"mohan\",\"sfsfs\",789008)"
   ]
  },
  {
   "cell_type": "markdown",
   "id": "96480b18",
   "metadata": {},
   "source": [
    "## Special Methods"
   ]
  },
  {
   "cell_type": "code",
   "execution_count": 1,
   "id": "5dd06cb6",
   "metadata": {},
   "outputs": [
    {
     "data": {
      "text/plain": [
       "['__abs__',\n",
       " '__add__',\n",
       " '__and__',\n",
       " '__bool__',\n",
       " '__ceil__',\n",
       " '__class__',\n",
       " '__delattr__',\n",
       " '__dir__',\n",
       " '__divmod__',\n",
       " '__doc__',\n",
       " '__eq__',\n",
       " '__float__',\n",
       " '__floor__',\n",
       " '__floordiv__',\n",
       " '__format__',\n",
       " '__ge__',\n",
       " '__getattribute__',\n",
       " '__getnewargs__',\n",
       " '__gt__',\n",
       " '__hash__',\n",
       " '__index__',\n",
       " '__init__',\n",
       " '__init_subclass__',\n",
       " '__int__',\n",
       " '__invert__',\n",
       " '__le__',\n",
       " '__lshift__',\n",
       " '__lt__',\n",
       " '__mod__',\n",
       " '__mul__',\n",
       " '__ne__',\n",
       " '__neg__',\n",
       " '__new__',\n",
       " '__or__',\n",
       " '__pos__',\n",
       " '__pow__',\n",
       " '__radd__',\n",
       " '__rand__',\n",
       " '__rdivmod__',\n",
       " '__reduce__',\n",
       " '__reduce_ex__',\n",
       " '__repr__',\n",
       " '__rfloordiv__',\n",
       " '__rlshift__',\n",
       " '__rmod__',\n",
       " '__rmul__',\n",
       " '__ror__',\n",
       " '__round__',\n",
       " '__rpow__',\n",
       " '__rrshift__',\n",
       " '__rshift__',\n",
       " '__rsub__',\n",
       " '__rtruediv__',\n",
       " '__rxor__',\n",
       " '__setattr__',\n",
       " '__sizeof__',\n",
       " '__str__',\n",
       " '__sub__',\n",
       " '__subclasshook__',\n",
       " '__truediv__',\n",
       " '__trunc__',\n",
       " '__xor__',\n",
       " 'as_integer_ratio',\n",
       " 'bit_length',\n",
       " 'conjugate',\n",
       " 'denominator',\n",
       " 'from_bytes',\n",
       " 'imag',\n",
       " 'numerator',\n",
       " 'real',\n",
       " 'to_bytes']"
      ]
     },
     "execution_count": 1,
     "metadata": {},
     "output_type": "execute_result"
    }
   ],
   "source": [
    "dir(int)"
   ]
  },
  {
   "cell_type": "code",
   "execution_count": 2,
   "id": "91063f6f",
   "metadata": {},
   "outputs": [],
   "source": [
    "a=10"
   ]
  },
  {
   "cell_type": "code",
   "execution_count": 3,
   "id": "5d3dc2a4",
   "metadata": {},
   "outputs": [
    {
     "data": {
      "text/plain": [
       "16"
      ]
     },
     "execution_count": 3,
     "metadata": {},
     "output_type": "execute_result"
    }
   ],
   "source": [
    "a+6"
   ]
  },
  {
   "cell_type": "code",
   "execution_count": 5,
   "id": "ca9156c9",
   "metadata": {},
   "outputs": [
    {
     "data": {
      "text/plain": [
       "16"
      ]
     },
     "execution_count": 5,
     "metadata": {},
     "output_type": "execute_result"
    }
   ],
   "source": [
    "## this is magic method or function written for it , if we use + means that add method will be called\n",
    "a.__add__(6)"
   ]
  },
  {
   "cell_type": "code",
   "execution_count": 8,
   "id": "0b50122f",
   "metadata": {},
   "outputs": [],
   "source": [
    "class pwskill:\n",
    "    \n",
    "    def __new__(cls):\n",
    "        print(\"this is my new\")\n",
    "    def __init__(self):\n",
    "        print(\"this is my init\")"
   ]
  },
  {
   "cell_type": "code",
   "execution_count": 9,
   "id": "01329000",
   "metadata": {},
   "outputs": [
    {
     "name": "stdout",
     "output_type": "stream",
     "text": [
      "this is my new\n"
     ]
    }
   ],
   "source": [
    "pw = pwskill()"
   ]
  },
  {
   "cell_type": "code",
   "execution_count": 13,
   "id": "836ddc2e",
   "metadata": {},
   "outputs": [],
   "source": [
    "class pwskill1:\n",
    "    def __init__(self):\n",
    "        self.mobile_number=97949493\n",
    "        \n",
    "    def __str__(self):\n",
    "        return \"this is magic method which will print something for object\""
   ]
  },
  {
   "cell_type": "code",
   "execution_count": 14,
   "id": "21157a3a",
   "metadata": {},
   "outputs": [],
   "source": [
    "pw1=pwskill1()"
   ]
  },
  {
   "cell_type": "code",
   "execution_count": 15,
   "id": "3928a30f",
   "metadata": {},
   "outputs": [
    {
     "data": {
      "text/plain": [
       "<__main__.pwskill1 at 0x20e85d0fee0>"
      ]
     },
     "execution_count": 15,
     "metadata": {},
     "output_type": "execute_result"
    }
   ],
   "source": [
    "pw1"
   ]
  },
  {
   "cell_type": "code",
   "execution_count": 16,
   "id": "ef825968",
   "metadata": {},
   "outputs": [
    {
     "name": "stdout",
     "output_type": "stream",
     "text": [
      "this is magic method which will print something for object\n"
     ]
    }
   ],
   "source": [
    "print(pw1)"
   ]
  },
  {
   "cell_type": "code",
   "execution_count": 18,
   "id": "02d3dabc",
   "metadata": {},
   "outputs": [
    {
     "data": {
      "text/plain": [
       "['__add__',\n",
       " '__class__',\n",
       " '__class_getitem__',\n",
       " '__contains__',\n",
       " '__delattr__',\n",
       " '__delitem__',\n",
       " '__dir__',\n",
       " '__doc__',\n",
       " '__eq__',\n",
       " '__format__',\n",
       " '__ge__',\n",
       " '__getattribute__',\n",
       " '__getitem__',\n",
       " '__gt__',\n",
       " '__hash__',\n",
       " '__iadd__',\n",
       " '__imul__',\n",
       " '__init__',\n",
       " '__init_subclass__',\n",
       " '__iter__',\n",
       " '__le__',\n",
       " '__len__',\n",
       " '__lt__',\n",
       " '__mul__',\n",
       " '__ne__',\n",
       " '__new__',\n",
       " '__reduce__',\n",
       " '__reduce_ex__',\n",
       " '__repr__',\n",
       " '__reversed__',\n",
       " '__rmul__',\n",
       " '__setattr__',\n",
       " '__setitem__',\n",
       " '__sizeof__',\n",
       " '__str__',\n",
       " '__subclasshook__',\n",
       " 'append',\n",
       " 'clear',\n",
       " 'copy',\n",
       " 'count',\n",
       " 'extend',\n",
       " 'index',\n",
       " 'insert',\n",
       " 'pop',\n",
       " 'remove',\n",
       " 'reverse',\n",
       " 'sort']"
      ]
     },
     "execution_count": 18,
     "metadata": {},
     "output_type": "execute_result"
    }
   ],
   "source": [
    "dir(list)\n",
    "# below __xyz__ are special (magic/Dunder) method"
   ]
  },
  {
   "cell_type": "markdown",
   "id": "16517f9e",
   "metadata": {},
   "source": [
    "## Property Decorators -Getters, Setters And Deletes"
   ]
  },
  {
   "cell_type": "code",
   "execution_count": 36,
   "id": "0ad6e725",
   "metadata": {},
   "outputs": [],
   "source": [
    "class pwskills:\n",
    "    \n",
    "    def __init__(self,course_price,course_name):\n",
    "        self.__course_price=course_price\n",
    "        self.course_name=course_name\n",
    "        \n",
    "    @property\n",
    "    def course_price_access(self):\n",
    "        return self.__course_price\n",
    "    # with the help of this user can access the private data\n",
    "    \n",
    "    # using setter function we can allow private data to change\n",
    "    @course_price_access.setter\n",
    "    def course_price_set(self,price):\n",
    "        if price<=3400:\n",
    "            pass\n",
    "        else:\n",
    "            self.__course_price=price\n",
    "            \n",
    "    # to give user to delete the private dat\n",
    "    @course_price_access.deleter\n",
    "    def course_price_del(self):\n",
    "        del self.__course_price"
   ]
  },
  {
   "cell_type": "code",
   "execution_count": 37,
   "id": "dd3fddbe",
   "metadata": {},
   "outputs": [],
   "source": [
    "pw=pwskills(3400,\"data sciene\")"
   ]
  },
  {
   "cell_type": "code",
   "execution_count": 22,
   "id": "4875ebaf",
   "metadata": {},
   "outputs": [
    {
     "data": {
      "text/plain": [
       "'data sciene'"
      ]
     },
     "execution_count": 22,
     "metadata": {},
     "output_type": "execute_result"
    }
   ],
   "source": [
    "pw.course_name"
   ]
  },
  {
   "cell_type": "code",
   "execution_count": 23,
   "id": "c5b7b0ed",
   "metadata": {},
   "outputs": [
    {
     "ename": "AttributeError",
     "evalue": "'pwskills' object has no attribute '__course_price'",
     "output_type": "error",
     "traceback": [
      "\u001b[1;31m---------------------------------------------------------------------------\u001b[0m",
      "\u001b[1;31mAttributeError\u001b[0m                            Traceback (most recent call last)",
      "\u001b[1;32m~\\AppData\\Local\\Temp/ipykernel_17636/158291008.py\u001b[0m in \u001b[0;36m<module>\u001b[1;34m\u001b[0m\n\u001b[1;32m----> 1\u001b[1;33m \u001b[0mpw\u001b[0m\u001b[1;33m.\u001b[0m\u001b[0m__course_price\u001b[0m\u001b[1;33m\u001b[0m\u001b[1;33m\u001b[0m\u001b[0m\n\u001b[0m",
      "\u001b[1;31mAttributeError\u001b[0m: 'pwskills' object has no attribute '__course_price'"
     ]
    }
   ],
   "source": [
    "pw.__course_price"
   ]
  },
  {
   "cell_type": "code",
   "execution_count": 24,
   "id": "addb4455",
   "metadata": {},
   "outputs": [
    {
     "data": {
      "text/plain": [
       "3400"
      ]
     },
     "execution_count": 24,
     "metadata": {},
     "output_type": "execute_result"
    }
   ],
   "source": [
    "pw._pwskills__course_price"
   ]
  },
  {
   "cell_type": "code",
   "execution_count": 27,
   "id": "0f6f5c56",
   "metadata": {},
   "outputs": [
    {
     "data": {
      "text/plain": [
       "3400"
      ]
     },
     "execution_count": 27,
     "metadata": {},
     "output_type": "execute_result"
    }
   ],
   "source": [
    "# since we have used decorator user can access it but can not modify\n",
    "pw.course_price_access"
   ]
  },
  {
   "cell_type": "code",
   "execution_count": 31,
   "id": "4b6aac92",
   "metadata": {},
   "outputs": [],
   "source": [
    "pw.course_price_set=3000"
   ]
  },
  {
   "cell_type": "code",
   "execution_count": 32,
   "id": "0ab571c0",
   "metadata": {},
   "outputs": [
    {
     "data": {
      "text/plain": [
       "3400"
      ]
     },
     "execution_count": 32,
     "metadata": {},
     "output_type": "execute_result"
    }
   ],
   "source": [
    "pw.course_price_access"
   ]
  },
  {
   "cell_type": "code",
   "execution_count": 33,
   "id": "50516d21",
   "metadata": {},
   "outputs": [],
   "source": [
    "pw.course_price_set=4000"
   ]
  },
  {
   "cell_type": "code",
   "execution_count": 38,
   "id": "3e8c0a55",
   "metadata": {},
   "outputs": [
    {
     "data": {
      "text/plain": [
       "3400"
      ]
     },
     "execution_count": 38,
     "metadata": {},
     "output_type": "execute_result"
    }
   ],
   "source": [
    "pw.course_price_access"
   ]
  },
  {
   "cell_type": "code",
   "execution_count": 41,
   "id": "8645827c",
   "metadata": {},
   "outputs": [],
   "source": [
    "del pw.course_price_del"
   ]
  },
  {
   "cell_type": "code",
   "execution_count": 42,
   "id": "b1ed7fe2",
   "metadata": {},
   "outputs": [
    {
     "ename": "AttributeError",
     "evalue": "'pwskills' object has no attribute '_pwskills__course_price'",
     "output_type": "error",
     "traceback": [
      "\u001b[1;31m---------------------------------------------------------------------------\u001b[0m",
      "\u001b[1;31mAttributeError\u001b[0m                            Traceback (most recent call last)",
      "\u001b[1;32m~\\AppData\\Local\\Temp/ipykernel_17636/148702304.py\u001b[0m in \u001b[0;36m<module>\u001b[1;34m\u001b[0m\n\u001b[1;32m----> 1\u001b[1;33m \u001b[0mpw\u001b[0m\u001b[1;33m.\u001b[0m\u001b[0mcourse_price_access\u001b[0m\u001b[1;33m\u001b[0m\u001b[1;33m\u001b[0m\u001b[0m\n\u001b[0m",
      "\u001b[1;32m~\\AppData\\Local\\Temp/ipykernel_17636/3576876457.py\u001b[0m in \u001b[0;36mcourse_price_access\u001b[1;34m(self)\u001b[0m\n\u001b[0;32m      7\u001b[0m     \u001b[1;33m@\u001b[0m\u001b[0mproperty\u001b[0m\u001b[1;33m\u001b[0m\u001b[1;33m\u001b[0m\u001b[0m\n\u001b[0;32m      8\u001b[0m     \u001b[1;32mdef\u001b[0m \u001b[0mcourse_price_access\u001b[0m\u001b[1;33m(\u001b[0m\u001b[0mself\u001b[0m\u001b[1;33m)\u001b[0m\u001b[1;33m:\u001b[0m\u001b[1;33m\u001b[0m\u001b[1;33m\u001b[0m\u001b[0m\n\u001b[1;32m----> 9\u001b[1;33m         \u001b[1;32mreturn\u001b[0m \u001b[0mself\u001b[0m\u001b[1;33m.\u001b[0m\u001b[0m__course_price\u001b[0m\u001b[1;33m\u001b[0m\u001b[1;33m\u001b[0m\u001b[0m\n\u001b[0m\u001b[0;32m     10\u001b[0m     \u001b[1;31m# with the help of this user can access the private data\u001b[0m\u001b[1;33m\u001b[0m\u001b[1;33m\u001b[0m\u001b[0m\n\u001b[0;32m     11\u001b[0m \u001b[1;33m\u001b[0m\u001b[0m\n",
      "\u001b[1;31mAttributeError\u001b[0m: 'pwskills' object has no attribute '_pwskills__course_price'"
     ]
    }
   ],
   "source": [
    "pw.course_price_access"
   ]
  },
  {
   "cell_type": "code",
   "execution_count": null,
   "id": "58d341ba",
   "metadata": {},
   "outputs": [],
   "source": []
  }
 ],
 "metadata": {
  "kernelspec": {
   "display_name": "Python 3 (ipykernel)",
   "language": "python",
   "name": "python3"
  },
  "language_info": {
   "codemirror_mode": {
    "name": "ipython",
    "version": 3
   },
   "file_extension": ".py",
   "mimetype": "text/x-python",
   "name": "python",
   "nbconvert_exporter": "python",
   "pygments_lexer": "ipython3",
   "version": "3.9.7"
  }
 },
 "nbformat": 4,
 "nbformat_minor": 5
}
