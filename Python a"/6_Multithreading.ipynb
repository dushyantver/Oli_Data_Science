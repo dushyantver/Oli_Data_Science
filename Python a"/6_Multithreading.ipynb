{
 "cells": [
  {
   "cell_type": "markdown",
   "id": "4277f277",
   "metadata": {},
   "source": [
    "# Multithreading"
   ]
  },
  {
   "cell_type": "code",
   "execution_count": 1,
   "id": "fb67b8c9",
   "metadata": {},
   "outputs": [],
   "source": [
    "import threading"
   ]
  },
  {
   "cell_type": "code",
   "execution_count": 4,
   "id": "655608f3",
   "metadata": {},
   "outputs": [],
   "source": [
    "def test(id):\n",
    "    print(\"this is my test id %id\" % id)"
   ]
  },
  {
   "cell_type": "code",
   "execution_count": 5,
   "id": "e4b31bf8",
   "metadata": {},
   "outputs": [
    {
     "name": "stdout",
     "output_type": "stream",
     "text": [
      "this is my test id 10d\n"
     ]
    }
   ],
   "source": [
    "test(10)"
   ]
  },
  {
   "cell_type": "code",
   "execution_count": 6,
   "id": "7e24e262",
   "metadata": {},
   "outputs": [
    {
     "name": "stdout",
     "output_type": "stream",
     "text": [
      "this is my test id 1d\n"
     ]
    }
   ],
   "source": [
    "test(1)"
   ]
  },
  {
   "cell_type": "code",
   "execution_count": 7,
   "id": "d540988e",
   "metadata": {},
   "outputs": [
    {
     "name": "stdout",
     "output_type": "stream",
     "text": [
      "this is my test id 90d\n"
     ]
    }
   ],
   "source": [
    "test(90)"
   ]
  },
  {
   "cell_type": "code",
   "execution_count": 8,
   "id": "904cef66",
   "metadata": {},
   "outputs": [],
   "source": [
    "thred = [threading.Thread(target=test, args=(i,)) for i in [10,1,90]]"
   ]
  },
  {
   "cell_type": "code",
   "execution_count": 9,
   "id": "ee59a310",
   "metadata": {},
   "outputs": [
    {
     "data": {
      "text/plain": [
       "[<Thread(Thread-8, initial)>,\n",
       " <Thread(Thread-9, initial)>,\n",
       " <Thread(Thread-10, initial)>]"
      ]
     },
     "execution_count": 9,
     "metadata": {},
     "output_type": "execute_result"
    }
   ],
   "source": [
    "thred"
   ]
  },
  {
   "cell_type": "code",
   "execution_count": 10,
   "id": "a778e55e",
   "metadata": {},
   "outputs": [
    {
     "name": "stdout",
     "output_type": "stream",
     "text": [
      "this is my test id 10d\n",
      "this is my test id 1d\n",
      "this is my test id 90d\n"
     ]
    }
   ],
   "source": [
    "# Bascially in threading  a program will run on single processor\n",
    "# we divide processor in threads\n",
    "for i in thred:\n",
    "    i.start()"
   ]
  },
  {
   "cell_type": "code",
   "execution_count": 11,
   "id": "081d92a5",
   "metadata": {},
   "outputs": [],
   "source": [
    "import urllib.request\n",
    "\n",
    "def file_download(url,file_name):\n",
    "    urllib.request.urlretrieve(url,filename)"
   ]
  },
  {
   "cell_type": "code",
   "execution_count": 13,
   "id": "e1e5b529",
   "metadata": {},
   "outputs": [
    {
     "ename": "TypeError",
     "evalue": "file_download() missing 2 required positional arguments: 'url' and 'file_name'",
     "output_type": "error",
     "traceback": [
      "\u001b[1;31m---------------------------------------------------------------------------\u001b[0m",
      "\u001b[1;31mTypeError\u001b[0m                                 Traceback (most recent call last)",
      "\u001b[1;32m~\\AppData\\Local\\Temp/ipykernel_21464/3934129698.py\u001b[0m in \u001b[0;36m<module>\u001b[1;34m\u001b[0m\n\u001b[1;32m----> 1\u001b[1;33m \u001b[0mfile_download\u001b[0m\u001b[1;33m(\u001b[0m\u001b[1;33m)\u001b[0m\u001b[1;31m#name of url)\u001b[0m\u001b[1;33m\u001b[0m\u001b[1;33m\u001b[0m\u001b[0m\n\u001b[0m",
      "\u001b[1;31mTypeError\u001b[0m: file_download() missing 2 required positional arguments: 'url' and 'file_name'"
     ]
    }
   ],
   "source": [
    "file_download()#name of url)"
   ]
  },
  {
   "cell_type": "code",
   "execution_count": 14,
   "id": "27d2566f",
   "metadata": {},
   "outputs": [],
   "source": [
    "## insted of doing one by one for url do it by threading to get data from multiple url\n",
    "url_list=[]"
   ]
  },
  {
   "cell_type": "code",
   "execution_count": 15,
   "id": "9536f392",
   "metadata": {},
   "outputs": [],
   "source": [
    "data_file_list=[\"data1.txt\",\"data2.txt\",\"data.txt\"]"
   ]
  },
  {
   "cell_type": "code",
   "execution_count": null,
   "id": "5b36beb0",
   "metadata": {},
   "outputs": [],
   "source": [
    "thread1=[threading.Thread(target=file_download, args=(url_list[i],data_file_list[i])) for i in range(len(url_list))"
   ]
  },
  {
   "cell_type": "code",
   "execution_count": null,
   "id": "fcf31a9e",
   "metadata": {},
   "outputs": [],
   "source": [
    "for t in thread1:\n",
    "    t.start()\n",
    "    "
   ]
  },
  {
   "cell_type": "code",
   "execution_count": 16,
   "id": "9904d3bb",
   "metadata": {},
   "outputs": [],
   "source": [
    "import time"
   ]
  },
  {
   "cell_type": "code",
   "execution_count": 19,
   "id": "f59aec4f",
   "metadata": {},
   "outputs": [],
   "source": [
    "def test2(x):\n",
    "    for i in range(10):\n",
    "        print(\"test1 print the value of x %d and print the value of i %d\" %(x,i))\n",
    "        time.sleep(1)"
   ]
  },
  {
   "cell_type": "code",
   "execution_count": 20,
   "id": "6362ceea",
   "metadata": {},
   "outputs": [
    {
     "name": "stdout",
     "output_type": "stream",
     "text": [
      "test1 print the value of x 10 and print the value of i 0\n",
      "test1 print the value of x 10 and print the value of i 1\n",
      "test1 print the value of x 10 and print the value of i 2\n",
      "test1 print the value of x 10 and print the value of i 3\n",
      "test1 print the value of x 10 and print the value of i 4\n",
      "test1 print the value of x 10 and print the value of i 5\n",
      "test1 print the value of x 10 and print the value of i 6\n",
      "test1 print the value of x 10 and print the value of i 7\n",
      "test1 print the value of x 10 and print the value of i 8\n",
      "test1 print the value of x 10 and print the value of i 9\n"
     ]
    }
   ],
   "source": [
    "test2(10)"
   ]
  },
  {
   "cell_type": "code",
   "execution_count": 22,
   "id": "512d439e",
   "metadata": {},
   "outputs": [],
   "source": [
    "thread2=[threading.Thread(target=test2, args=(i,)) for i in [100,10,20,5]]"
   ]
  },
  {
   "cell_type": "code",
   "execution_count": 23,
   "id": "62c30643",
   "metadata": {},
   "outputs": [
    {
     "name": "stdout",
     "output_type": "stream",
     "text": [
      "test1 print the value of x 100 and print the value of i 0\n",
      "test1 print the value of x 10 and print the value of i 0\n",
      "test1 print the value of x 20 and print the value of i 0\n",
      "test1 print the value of x 5 and print the value of i 0\n",
      "test1 print the value of x 10 and print the value of i 1test1 print the value of x 100 and print the value of i 1\n",
      "\n",
      "test1 print the value of x 5 and print the value of i 1test1 print the value of x 20 and print the value of i 1\n",
      "\n",
      "test1 print the value of x 100 and print the value of i 2test1 print the value of x 10 and print the value of i 2\n",
      "\n",
      "test1 print the value of x 20 and print the value of i 2test1 print the value of x 5 and print the value of i 2\n",
      "\n",
      "test1 print the value of x 10 and print the value of i 3test1 print the value of x 100 and print the value of i 3\n",
      "\n",
      "test1 print the value of x 20 and print the value of i 3test1 print the value of x 5 and print the value of i 3\n",
      "\n",
      "test1 print the value of x 10 and print the value of i 4test1 print the value of x 100 and print the value of i 4\n",
      "\n",
      "test1 print the value of x 20 and print the value of i 4test1 print the value of x 5 and print the value of i 4\n",
      "\n",
      "test1 print the value of x 10 and print the value of i 5test1 print the value of x 100 and print the value of i 5\n",
      "\n",
      "test1 print the value of x 5 and print the value of i 5test1 print the value of x 20 and print the value of i 5\n",
      "\n",
      "test1 print the value of x 10 and print the value of i 6test1 print the value of x 100 and print the value of i 6\n",
      "\n",
      "test1 print the value of x 20 and print the value of i 6test1 print the value of x 5 and print the value of i 6\n",
      "\n",
      "test1 print the value of x 100 and print the value of i 7test1 print the value of x 10 and print the value of i 7\n",
      "\n",
      "test1 print the value of x 5 and print the value of i 7test1 print the value of x 20 and print the value of i 7\n",
      "\n",
      "test1 print the value of x 100 and print the value of i 8test1 print the value of x 10 and print the value of i 8\n",
      "\n",
      "test1 print the value of x 5 and print the value of i 8\n",
      "test1 print the value of x 20 and print the value of i 8\n",
      "test1 print the value of x 100 and print the value of i 9test1 print the value of x 10 and print the value of i 9\n",
      "\n",
      "test1 print the value of x 5 and print the value of i 9test1 print the value of x 20 and print the value of i 9\n",
      "\n"
     ]
    }
   ],
   "source": [
    "for t in thread2:\n",
    "    t.start()"
   ]
  },
  {
   "cell_type": "code",
   "execution_count": 28,
   "id": "b364a34f",
   "metadata": {},
   "outputs": [
    {
     "name": "stdout",
     "output_type": "stream",
     "text": [
      "value of x 1 and value of shared_var 1\n",
      "value of x 2 and value of shared_var 2\n",
      "value of x 3 and value of shared_var 3\n",
      "value of x 4 and value of shared_var 4\n",
      "value of x 5 and value of shared_var 5\n"
     ]
    }
   ],
   "source": [
    "shared_var=0\n",
    "# .lock() means when on is using other can not use\n",
    "lock_var = threading.Lock()\n",
    "def test3(x):\n",
    "    global shared_var\n",
    "    with lock_var:\n",
    "        shared_var=shared_var+1\n",
    "        print(\"value of x %d and value of shared_var %d\" %(x,shared_var))\n",
    "        time.sleep(1)\n",
    "        \n",
    "thread4=[threading.Thread(target=test3, args=(i,)) for i in [1,2,3,4,5]]\n",
    "for t in thread4:\n",
    "    t.start()"
   ]
  },
  {
   "cell_type": "code",
   "execution_count": 25,
   "id": "a4a849d5",
   "metadata": {},
   "outputs": [
    {
     "name": "stdout",
     "output_type": "stream",
     "text": [
      "value of x 1 and value of shared_var 1\n"
     ]
    }
   ],
   "source": [
    "test3(1)"
   ]
  },
  {
   "cell_type": "code",
   "execution_count": 26,
   "id": "ff91cf07",
   "metadata": {},
   "outputs": [
    {
     "name": "stdout",
     "output_type": "stream",
     "text": [
      "value of x 3 and value of shared_var 2\n"
     ]
    }
   ],
   "source": [
    "test3(3)"
   ]
  },
  {
   "cell_type": "markdown",
   "id": "ab6b5841",
   "metadata": {},
   "source": [
    "# Multiprocessing"
   ]
  },
  {
   "cell_type": "code",
   "execution_count": 33,
   "id": "3f00cb81",
   "metadata": {},
   "outputs": [
    {
     "name": "stdout",
     "output_type": "stream",
     "text": [
      "this is my main program\n"
     ]
    }
   ],
   "source": [
    "import multiprocessing\n",
    "\n",
    "def test12():\n",
    "    print(\"this is my multiprocessing program\")\n",
    "    \n",
    "if __name__ == \"__main__\":\n",
    "    m=multiprocessing.Process(target=test12)\n",
    "    print(\"this is my main program\")\n",
    "    m.start()\n",
    "    m.join()"
   ]
  },
  {
   "cell_type": "code",
   "execution_count": 30,
   "id": "efedd3f2",
   "metadata": {},
   "outputs": [
    {
     "name": "stdout",
     "output_type": "stream",
     "text": [
      "this is my multiprocessing program\n"
     ]
    }
   ],
   "source": [
    "test5()"
   ]
  },
  {
   "cell_type": "code",
   "execution_count": null,
   "id": "aad6122d",
   "metadata": {},
   "outputs": [],
   "source": [
    "def square(n):\n",
    "    return n**2\n",
    "\n",
    "if __name__ == \"__main__\":\n",
    "    with multiprocessing.Pool(processes=5) as pool:\n",
    "        out=pool.map(square,[1,2,3,4,5,6,8])\n",
    "        print(out)"
   ]
  },
  {
   "cell_type": "code",
   "execution_count": null,
   "id": "bf380531",
   "metadata": {},
   "outputs": [],
   "source": []
  }
 ],
 "metadata": {
  "kernelspec": {
   "display_name": "Python 3 (ipykernel)",
   "language": "python",
   "name": "python3"
  },
  "language_info": {
   "codemirror_mode": {
    "name": "ipython",
    "version": 3
   },
   "file_extension": ".py",
   "mimetype": "text/x-python",
   "name": "python",
   "nbconvert_exporter": "python",
   "pygments_lexer": "ipython3",
   "version": "3.9.7"
  }
 },
 "nbformat": 4,
 "nbformat_minor": 5
}
