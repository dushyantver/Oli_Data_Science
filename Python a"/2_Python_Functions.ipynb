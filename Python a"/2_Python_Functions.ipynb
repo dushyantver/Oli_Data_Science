{
 "cells": [
  {
   "cell_type": "markdown",
   "id": "1097a5eb",
   "metadata": {},
   "source": [
    "# Functions"
   ]
  },
  {
   "cell_type": "code",
   "execution_count": 1,
   "id": "0d143cd9",
   "metadata": {},
   "outputs": [],
   "source": [
    "def test():\n",
    "    print(\"Hello\")"
   ]
  },
  {
   "cell_type": "code",
   "execution_count": 2,
   "id": "7ef40dbb",
   "metadata": {},
   "outputs": [
    {
     "name": "stdout",
     "output_type": "stream",
     "text": [
      "Hello\n"
     ]
    }
   ],
   "source": [
    "test()"
   ]
  },
  {
   "cell_type": "code",
   "execution_count": 6,
   "id": "e263d8c1",
   "metadata": {},
   "outputs": [],
   "source": [
    "def test():\n",
    "    pass"
   ]
  },
  {
   "cell_type": "code",
   "execution_count": 7,
   "id": "7a1b24eb",
   "metadata": {},
   "outputs": [],
   "source": [
    "\n",
    "def test1():\n",
    "    print(\"my first function\")"
   ]
  },
  {
   "cell_type": "code",
   "execution_count": 8,
   "id": "5061d5ab",
   "metadata": {},
   "outputs": [
    {
     "name": "stdout",
     "output_type": "stream",
     "text": [
      "my first function\n"
     ]
    }
   ],
   "source": [
    "test1()"
   ]
  },
  {
   "cell_type": "code",
   "execution_count": 9,
   "id": "21861cf5",
   "metadata": {},
   "outputs": [
    {
     "name": "stdout",
     "output_type": "stream",
     "text": [
      "my first function\n"
     ]
    },
    {
     "ename": "TypeError",
     "evalue": "unsupported operand type(s) for +: 'NoneType' and 'str'",
     "output_type": "error",
     "traceback": [
      "\u001b[1;31m---------------------------------------------------------------------------\u001b[0m",
      "\u001b[1;31mTypeError\u001b[0m                                 Traceback (most recent call last)",
      "\u001b[1;32m~\\AppData\\Local\\Temp/ipykernel_10492/283047335.py\u001b[0m in \u001b[0;36m<module>\u001b[1;34m\u001b[0m\n\u001b[1;32m----> 1\u001b[1;33m \u001b[0mtest1\u001b[0m\u001b[1;33m(\u001b[0m\u001b[1;33m)\u001b[0m\u001b[1;33m+\u001b[0m\u001b[1;34m\"sam\"\u001b[0m\u001b[1;33m\u001b[0m\u001b[1;33m\u001b[0m\u001b[0m\n\u001b[0m",
      "\u001b[1;31mTypeError\u001b[0m: unsupported operand type(s) for +: 'NoneType' and 'str'"
     ]
    }
   ],
   "source": [
    "test1()+\"sam\"\n",
    "# b/c print does not return any data type it return none type"
   ]
  },
  {
   "cell_type": "code",
   "execution_count": 10,
   "id": "b37083af",
   "metadata": {},
   "outputs": [],
   "source": [
    "def test2():\n",
    "    return \"my first function\""
   ]
  },
  {
   "cell_type": "code",
   "execution_count": 11,
   "id": "89b242cb",
   "metadata": {},
   "outputs": [
    {
     "data": {
      "text/plain": [
       "'my first function'"
      ]
     },
     "execution_count": 11,
     "metadata": {},
     "output_type": "execute_result"
    }
   ],
   "source": [
    "test2()"
   ]
  },
  {
   "cell_type": "code",
   "execution_count": 12,
   "id": "6b301d4e",
   "metadata": {},
   "outputs": [
    {
     "data": {
      "text/plain": [
       "'my first function ram'"
      ]
     },
     "execution_count": 12,
     "metadata": {},
     "output_type": "execute_result"
    }
   ],
   "source": [
    "test2()+\" \"+\"ram\""
   ]
  },
  {
   "cell_type": "code",
   "execution_count": 13,
   "id": "da170b32",
   "metadata": {},
   "outputs": [],
   "source": [
    "# therefore u should write return"
   ]
  },
  {
   "cell_type": "code",
   "execution_count": 14,
   "id": "0db61ebc",
   "metadata": {},
   "outputs": [],
   "source": [
    "# function can return multiple data type\n",
    "def test3():\n",
    "    return 1,4,\"pw\""
   ]
  },
  {
   "cell_type": "code",
   "execution_count": 15,
   "id": "864e2c31",
   "metadata": {},
   "outputs": [
    {
     "data": {
      "text/plain": [
       "(1, 4, 'pw')"
      ]
     },
     "execution_count": 15,
     "metadata": {},
     "output_type": "execute_result"
    }
   ],
   "source": [
    "test3()"
   ]
  },
  {
   "cell_type": "code",
   "execution_count": 17,
   "id": "82cf3197",
   "metadata": {},
   "outputs": [
    {
     "data": {
      "text/plain": [
       "tuple"
      ]
     },
     "execution_count": 17,
     "metadata": {},
     "output_type": "execute_result"
    }
   ],
   "source": [
    "type(test3())"
   ]
  },
  {
   "cell_type": "code",
   "execution_count": 18,
   "id": "ae5b2cc3",
   "metadata": {},
   "outputs": [],
   "source": [
    "a=1,2,3,4,5"
   ]
  },
  {
   "cell_type": "code",
   "execution_count": 19,
   "id": "4bb01baf",
   "metadata": {},
   "outputs": [
    {
     "data": {
      "text/plain": [
       "(1, 2, 3, 4, 5)"
      ]
     },
     "execution_count": 19,
     "metadata": {},
     "output_type": "execute_result"
    }
   ],
   "source": [
    "a"
   ]
  },
  {
   "cell_type": "code",
   "execution_count": 20,
   "id": "207d411d",
   "metadata": {},
   "outputs": [],
   "source": [
    "a,b,c,d=1,2,34,True"
   ]
  },
  {
   "cell_type": "code",
   "execution_count": 21,
   "id": "8f8cb515",
   "metadata": {},
   "outputs": [
    {
     "data": {
      "text/plain": [
       "1"
      ]
     },
     "execution_count": 21,
     "metadata": {},
     "output_type": "execute_result"
    }
   ],
   "source": [
    "a"
   ]
  },
  {
   "cell_type": "code",
   "execution_count": 22,
   "id": "fbaad873",
   "metadata": {},
   "outputs": [
    {
     "data": {
      "text/plain": [
       "2"
      ]
     },
     "execution_count": 22,
     "metadata": {},
     "output_type": "execute_result"
    }
   ],
   "source": [
    "b"
   ]
  },
  {
   "cell_type": "code",
   "execution_count": 23,
   "id": "0324a828",
   "metadata": {},
   "outputs": [
    {
     "data": {
      "text/plain": [
       "True"
      ]
     },
     "execution_count": 23,
     "metadata": {},
     "output_type": "execute_result"
    }
   ],
   "source": [
    "d"
   ]
  },
  {
   "cell_type": "code",
   "execution_count": 24,
   "id": "880d6061",
   "metadata": {},
   "outputs": [
    {
     "data": {
      "text/plain": [
       "(1, 4, 'pw')"
      ]
     },
     "execution_count": 24,
     "metadata": {},
     "output_type": "execute_result"
    }
   ],
   "source": [
    "test3()"
   ]
  },
  {
   "cell_type": "code",
   "execution_count": 25,
   "id": "0af44f52",
   "metadata": {},
   "outputs": [
    {
     "data": {
      "text/plain": [
       "1"
      ]
     },
     "execution_count": 25,
     "metadata": {},
     "output_type": "execute_result"
    }
   ],
   "source": [
    "test3()[0]"
   ]
  },
  {
   "cell_type": "code",
   "execution_count": 26,
   "id": "be9d4e24",
   "metadata": {},
   "outputs": [],
   "source": [
    "a,b,c=test3()"
   ]
  },
  {
   "cell_type": "code",
   "execution_count": 27,
   "id": "804b4cf4",
   "metadata": {},
   "outputs": [
    {
     "data": {
      "text/plain": [
       "1"
      ]
     },
     "execution_count": 27,
     "metadata": {},
     "output_type": "execute_result"
    }
   ],
   "source": [
    "a"
   ]
  },
  {
   "cell_type": "code",
   "execution_count": 28,
   "id": "7036f00a",
   "metadata": {},
   "outputs": [
    {
     "data": {
      "text/plain": [
       "4"
      ]
     },
     "execution_count": 28,
     "metadata": {},
     "output_type": "execute_result"
    }
   ],
   "source": [
    "b"
   ]
  },
  {
   "cell_type": "code",
   "execution_count": 29,
   "id": "a25aac77",
   "metadata": {},
   "outputs": [
    {
     "data": {
      "text/plain": [
       "'pw'"
      ]
     },
     "execution_count": 29,
     "metadata": {},
     "output_type": "execute_result"
    }
   ],
   "source": [
    "c"
   ]
  },
  {
   "cell_type": "code",
   "execution_count": 30,
   "id": "4fe4579d",
   "metadata": {},
   "outputs": [],
   "source": [
    "def test4():\n",
    "    a=3*5+5\n",
    "    return a"
   ]
  },
  {
   "cell_type": "code",
   "execution_count": 31,
   "id": "040eb876",
   "metadata": {},
   "outputs": [
    {
     "data": {
      "text/plain": [
       "20"
      ]
     },
     "execution_count": 31,
     "metadata": {},
     "output_type": "execute_result"
    }
   ],
   "source": [
    "test4()"
   ]
  },
  {
   "cell_type": "code",
   "execution_count": 32,
   "id": "15eebf53",
   "metadata": {},
   "outputs": [],
   "source": [
    "def test5(a,b):\n",
    "    c=a+b\n",
    "    return c"
   ]
  },
  {
   "cell_type": "code",
   "execution_count": 33,
   "id": "b8b9f854",
   "metadata": {},
   "outputs": [
    {
     "data": {
      "text/plain": [
       "5"
      ]
     },
     "execution_count": 33,
     "metadata": {},
     "output_type": "execute_result"
    }
   ],
   "source": [
    "test5(2,3)"
   ]
  },
  {
   "cell_type": "code",
   "execution_count": 35,
   "id": "440bd828",
   "metadata": {},
   "outputs": [
    {
     "data": {
      "text/plain": [
       "'gwe'"
      ]
     },
     "execution_count": 35,
     "metadata": {},
     "output_type": "execute_result"
    }
   ],
   "source": [
    "test5(\"g\",\"we\")"
   ]
  },
  {
   "cell_type": "code",
   "execution_count": 36,
   "id": "08b81222",
   "metadata": {},
   "outputs": [
    {
     "data": {
      "text/plain": [
       "[1, 2, 3, 2, 3, 4]"
      ]
     },
     "execution_count": 36,
     "metadata": {},
     "output_type": "execute_result"
    }
   ],
   "source": [
    "l1=[1,2,3]\n",
    "l2=[2,3,4]\n",
    "test5(l1,l2)"
   ]
  },
  {
   "cell_type": "code",
   "execution_count": 37,
   "id": "c87205d6",
   "metadata": {},
   "outputs": [
    {
     "data": {
      "text/plain": [
       "(1, 2, 3, 2, 3, 4)"
      ]
     },
     "execution_count": 37,
     "metadata": {},
     "output_type": "execute_result"
    }
   ],
   "source": [
    "t1=(1,2,3)\n",
    "t2=(2,3,4)\n",
    "test5(t1,t2)"
   ]
  },
  {
   "cell_type": "code",
   "execution_count": 38,
   "id": "0da1fb23",
   "metadata": {},
   "outputs": [
    {
     "ename": "TypeError",
     "evalue": "unsupported operand type(s) for +: 'set' and 'set'",
     "output_type": "error",
     "traceback": [
      "\u001b[1;31m---------------------------------------------------------------------------\u001b[0m",
      "\u001b[1;31mTypeError\u001b[0m                                 Traceback (most recent call last)",
      "\u001b[1;32m~\\AppData\\Local\\Temp/ipykernel_10492/356508443.py\u001b[0m in \u001b[0;36m<module>\u001b[1;34m\u001b[0m\n\u001b[0;32m      1\u001b[0m \u001b[0ms1\u001b[0m\u001b[1;33m=\u001b[0m\u001b[1;33m{\u001b[0m\u001b[1;36m1\u001b[0m\u001b[1;33m,\u001b[0m\u001b[1;36m2\u001b[0m\u001b[1;33m,\u001b[0m\u001b[1;36m3\u001b[0m\u001b[1;33m}\u001b[0m\u001b[1;33m\u001b[0m\u001b[1;33m\u001b[0m\u001b[0m\n\u001b[0;32m      2\u001b[0m \u001b[0ms2\u001b[0m\u001b[1;33m=\u001b[0m\u001b[1;33m{\u001b[0m\u001b[1;36m2\u001b[0m\u001b[1;33m,\u001b[0m\u001b[1;36m3\u001b[0m\u001b[1;33m,\u001b[0m\u001b[1;36m4\u001b[0m\u001b[1;33m}\u001b[0m\u001b[1;33m\u001b[0m\u001b[1;33m\u001b[0m\u001b[0m\n\u001b[1;32m----> 3\u001b[1;33m \u001b[0mtest5\u001b[0m\u001b[1;33m(\u001b[0m\u001b[0ms1\u001b[0m\u001b[1;33m,\u001b[0m\u001b[0ms2\u001b[0m\u001b[1;33m)\u001b[0m\u001b[1;33m\u001b[0m\u001b[1;33m\u001b[0m\u001b[0m\n\u001b[0m",
      "\u001b[1;32m~\\AppData\\Local\\Temp/ipykernel_10492/4193832075.py\u001b[0m in \u001b[0;36mtest5\u001b[1;34m(a, b)\u001b[0m\n\u001b[0;32m      1\u001b[0m \u001b[1;32mdef\u001b[0m \u001b[0mtest5\u001b[0m\u001b[1;33m(\u001b[0m\u001b[0ma\u001b[0m\u001b[1;33m,\u001b[0m\u001b[0mb\u001b[0m\u001b[1;33m)\u001b[0m\u001b[1;33m:\u001b[0m\u001b[1;33m\u001b[0m\u001b[1;33m\u001b[0m\u001b[0m\n\u001b[1;32m----> 2\u001b[1;33m     \u001b[0mc\u001b[0m\u001b[1;33m=\u001b[0m\u001b[0ma\u001b[0m\u001b[1;33m+\u001b[0m\u001b[0mb\u001b[0m\u001b[1;33m\u001b[0m\u001b[1;33m\u001b[0m\u001b[0m\n\u001b[0m\u001b[0;32m      3\u001b[0m     \u001b[1;32mreturn\u001b[0m \u001b[0mc\u001b[0m\u001b[1;33m\u001b[0m\u001b[1;33m\u001b[0m\u001b[0m\n",
      "\u001b[1;31mTypeError\u001b[0m: unsupported operand type(s) for +: 'set' and 'set'"
     ]
    }
   ],
   "source": [
    "s1={1,2,3}\n",
    "s2={2,3,4}\n",
    "test5(s1,s2)"
   ]
  },
  {
   "cell_type": "code",
   "execution_count": 39,
   "id": "0a61fe31",
   "metadata": {},
   "outputs": [
    {
     "data": {
      "text/plain": [
       "'kumarsudh'"
      ]
     },
     "execution_count": 39,
     "metadata": {},
     "output_type": "execute_result"
    }
   ],
   "source": [
    "test5(b=\"sudh\",a=\"kumar\")"
   ]
  },
  {
   "cell_type": "code",
   "execution_count": 54,
   "id": "e99ca896",
   "metadata": {},
   "outputs": [],
   "source": [
    "ls=[1,2,3,4,5,\"pe\",[1,2,4,5]]"
   ]
  },
  {
   "cell_type": "code",
   "execution_count": 55,
   "id": "15394f07",
   "metadata": {},
   "outputs": [],
   "source": [
    "# create a function which take list as input and retun list of numerical value\n",
    "def test6(a):\n",
    "    n = []\n",
    "    for i in a:\n",
    "        if type(i)==int or type(i)==float:\n",
    "            n.append(i)\n",
    "    return n"
   ]
  },
  {
   "cell_type": "code",
   "execution_count": 57,
   "id": "b3bdb11e",
   "metadata": {},
   "outputs": [
    {
     "data": {
      "text/plain": [
       "[1, 2, 3, 4, 5]"
      ]
     },
     "execution_count": 57,
     "metadata": {},
     "output_type": "execute_result"
    }
   ],
   "source": [
    "test6(ls)"
   ]
  },
  {
   "cell_type": "code",
   "execution_count": 58,
   "id": "efad6cdb",
   "metadata": {},
   "outputs": [],
   "source": [
    "def test7(a):\n",
    "    n=[]\n",
    "    for i in a:\n",
    "        if type(i)==list:\n",
    "            for j in i:\n",
    "                if type(j)==int or type(j)==float:\n",
    "                    n.append(j)\n",
    "        elif type(i)==int or type(i)==float:\n",
    "            n.append(i)\n",
    "        else:\n",
    "            pass\n",
    "    return n"
   ]
  },
  {
   "cell_type": "code",
   "execution_count": 59,
   "id": "ba20eed1",
   "metadata": {},
   "outputs": [
    {
     "data": {
      "text/plain": [
       "[1, 2, 3, 4, 5, 1, 2, 4, 5]"
      ]
     },
     "execution_count": 59,
     "metadata": {},
     "output_type": "execute_result"
    }
   ],
   "source": [
    "test7(ls)"
   ]
  },
  {
   "cell_type": "code",
   "execution_count": 60,
   "id": "40277ffc",
   "metadata": {},
   "outputs": [],
   "source": [
    "def test8(a,b,c,d,e):\n",
    "    pass"
   ]
  },
  {
   "cell_type": "code",
   "execution_count": 61,
   "id": "27648672",
   "metadata": {},
   "outputs": [
    {
     "ename": "TypeError",
     "evalue": "test8() takes 5 positional arguments but 6 were given",
     "output_type": "error",
     "traceback": [
      "\u001b[1;31m---------------------------------------------------------------------------\u001b[0m",
      "\u001b[1;31mTypeError\u001b[0m                                 Traceback (most recent call last)",
      "\u001b[1;32m~\\AppData\\Local\\Temp/ipykernel_10492/2982645792.py\u001b[0m in \u001b[0;36m<module>\u001b[1;34m\u001b[0m\n\u001b[1;32m----> 1\u001b[1;33m \u001b[0mtest8\u001b[0m\u001b[1;33m(\u001b[0m\u001b[1;36m1\u001b[0m\u001b[1;33m,\u001b[0m\u001b[1;36m2\u001b[0m\u001b[1;33m,\u001b[0m\u001b[1;36m3\u001b[0m\u001b[1;33m,\u001b[0m\u001b[1;36m4\u001b[0m\u001b[1;33m,\u001b[0m\u001b[1;36m5\u001b[0m\u001b[1;33m,\u001b[0m\u001b[1;36m6\u001b[0m\u001b[1;33m)\u001b[0m\u001b[1;33m\u001b[0m\u001b[1;33m\u001b[0m\u001b[0m\n\u001b[0m",
      "\u001b[1;31mTypeError\u001b[0m: test8() takes 5 positional arguments but 6 were given"
     ]
    }
   ],
   "source": [
    "test8(1,2,3,4,5,6)"
   ]
  },
  {
   "cell_type": "code",
   "execution_count": 62,
   "id": "be03f81a",
   "metadata": {},
   "outputs": [],
   "source": [
    "def test9(*args):\n",
    "    return args"
   ]
  },
  {
   "cell_type": "code",
   "execution_count": 63,
   "id": "f36c852f",
   "metadata": {},
   "outputs": [
    {
     "data": {
      "text/plain": [
       "(12,)"
      ]
     },
     "execution_count": 63,
     "metadata": {},
     "output_type": "execute_result"
    }
   ],
   "source": [
    "test9(12)"
   ]
  },
  {
   "cell_type": "code",
   "execution_count": 64,
   "id": "86aaac03",
   "metadata": {},
   "outputs": [
    {
     "data": {
      "text/plain": [
       "(1, 2, 4, 5, 64)"
      ]
     },
     "execution_count": 64,
     "metadata": {},
     "output_type": "execute_result"
    }
   ],
   "source": [
    "test9(1,2,4,5,64)"
   ]
  },
  {
   "cell_type": "code",
   "execution_count": 65,
   "id": "3a1e06c8",
   "metadata": {},
   "outputs": [],
   "source": [
    "# args is not a keyword\n",
    "def test10(*sam):\n",
    "    return sam"
   ]
  },
  {
   "cell_type": "code",
   "execution_count": 66,
   "id": "9eef1d72",
   "metadata": {},
   "outputs": [
    {
     "data": {
      "text/plain": [
       "('asf',)"
      ]
     },
     "execution_count": 66,
     "metadata": {},
     "output_type": "execute_result"
    }
   ],
   "source": [
    "test10(\"asf\")"
   ]
  },
  {
   "cell_type": "code",
   "execution_count": 67,
   "id": "126fdc51",
   "metadata": {},
   "outputs": [],
   "source": [
    "def test11(*args,a):\n",
    "    return args,a"
   ]
  },
  {
   "cell_type": "code",
   "execution_count": 69,
   "id": "28270b2b",
   "metadata": {},
   "outputs": [
    {
     "data": {
      "text/plain": [
       "((43, 6, 7), 'asam')"
      ]
     },
     "execution_count": 69,
     "metadata": {},
     "output_type": "execute_result"
    }
   ],
   "source": [
    "test11(43,6,7, a=\"asam\")"
   ]
  },
  {
   "cell_type": "code",
   "execution_count": 70,
   "id": "890dc88a",
   "metadata": {},
   "outputs": [],
   "source": [
    "def test12(*args):\n",
    "    l=[]\n",
    "    for i in args:\n",
    "        if type(i)==list:\n",
    "            l.append(i)\n",
    "    return l"
   ]
  },
  {
   "cell_type": "code",
   "execution_count": 71,
   "id": "ab8465c9",
   "metadata": {},
   "outputs": [
    {
     "data": {
      "text/plain": [
       "[[23, 1, 23, 42]]"
      ]
     },
     "execution_count": 71,
     "metadata": {},
     "output_type": "execute_result"
    }
   ],
   "source": [
    "test12(1,2,3,\"ads\",[23,1,23,42],(23,53))"
   ]
  },
  {
   "cell_type": "code",
   "execution_count": 72,
   "id": "8db87b4c",
   "metadata": {},
   "outputs": [],
   "source": [
    "def test13(**kwargs):\n",
    "    return kwargs"
   ]
  },
  {
   "cell_type": "code",
   "execution_count": 73,
   "id": "633be454",
   "metadata": {},
   "outputs": [
    {
     "data": {
      "text/plain": [
       "{}"
      ]
     },
     "execution_count": 73,
     "metadata": {},
     "output_type": "execute_result"
    }
   ],
   "source": [
    "test13()"
   ]
  },
  {
   "cell_type": "code",
   "execution_count": 74,
   "id": "efeb8cc5",
   "metadata": {},
   "outputs": [
    {
     "data": {
      "text/plain": [
       "{'a': 23, 'b': 21, 'c': [1, 2, 4, 3], 'd': {'ds', 'sa'}}"
      ]
     },
     "execution_count": 74,
     "metadata": {},
     "output_type": "execute_result"
    }
   ],
   "source": [
    "test13(a=23,b=21,c=[1,2,4,3],d={\"sa\",\"ds\"})"
   ]
  },
  {
   "cell_type": "code",
   "execution_count": 78,
   "id": "a4224370",
   "metadata": {},
   "outputs": [],
   "source": [
    "def test14(**kwargs):\n",
    "    for i in kwargs.keys():\n",
    "        if type(kwargs[i])==list:\n",
    "            return i,kwargs[i]"
   ]
  },
  {
   "cell_type": "code",
   "execution_count": 79,
   "id": "07001529",
   "metadata": {},
   "outputs": [
    {
     "data": {
      "text/plain": [
       "('c', [1, 2, 4, 3])"
      ]
     },
     "execution_count": 79,
     "metadata": {},
     "output_type": "execute_result"
    }
   ],
   "source": [
    "test14(a=23,b=21,c=[1,2,4,3],d={\"sa\",\"ds\"})"
   ]
  },
  {
   "cell_type": "code",
   "execution_count": 80,
   "id": "554a8b67",
   "metadata": {},
   "outputs": [],
   "source": [
    "def test15(*args,**kwargs):\n",
    "    return args,kwargs"
   ]
  },
  {
   "cell_type": "code",
   "execution_count": 81,
   "id": "574c31dd",
   "metadata": {},
   "outputs": [
    {
     "data": {
      "text/plain": [
       "((2, 3, 4), {'a': 1, 'b': 43})"
      ]
     },
     "execution_count": 81,
     "metadata": {},
     "output_type": "execute_result"
    }
   ],
   "source": [
    "test15(2,3,4,a=1,b=43)"
   ]
  },
  {
   "cell_type": "markdown",
   "id": "a17befea",
   "metadata": {},
   "source": [
    "## Generator Functions"
   ]
  },
  {
   "cell_type": "code",
   "execution_count": 88,
   "id": "2d7fc3cb",
   "metadata": {},
   "outputs": [
    {
     "data": {
      "text/plain": [
       "range(1, 10)"
      ]
     },
     "execution_count": 88,
     "metadata": {},
     "output_type": "execute_result"
    }
   ],
   "source": [
    "range(1,10)"
   ]
  },
  {
   "cell_type": "code",
   "execution_count": 89,
   "id": "c8fe41c2",
   "metadata": {},
   "outputs": [
    {
     "name": "stdout",
     "output_type": "stream",
     "text": [
      "1\n",
      "2\n",
      "3\n",
      "4\n",
      "5\n",
      "6\n",
      "7\n",
      "8\n",
      "9\n"
     ]
    }
   ],
   "source": [
    "for i in range(1,10):\n",
    "    print(i)"
   ]
  },
  {
   "cell_type": "code",
   "execution_count": 90,
   "id": "18004979",
   "metadata": {},
   "outputs": [],
   "source": [
    "l=[1,2,42,2,\"sa\",\"A\"]"
   ]
  },
  {
   "cell_type": "code",
   "execution_count": 91,
   "id": "d67e8ae2",
   "metadata": {},
   "outputs": [],
   "source": [
    "def test16(a):\n",
    "    n=[]\n",
    "    for i in a:\n",
    "        if type(i)==int:\n",
    "            n.append(i)\n",
    "    return n "
   ]
  },
  {
   "cell_type": "code",
   "execution_count": 92,
   "id": "22d1ef3a",
   "metadata": {},
   "outputs": [
    {
     "data": {
      "text/plain": [
       "[1, 2, 42, 2]"
      ]
     },
     "execution_count": 92,
     "metadata": {},
     "output_type": "execute_result"
    }
   ],
   "source": [
    "test16(l)"
   ]
  },
  {
   "cell_type": "code",
   "execution_count": 93,
   "id": "266a8395",
   "metadata": {},
   "outputs": [],
   "source": [
    "def test_fibo(n):\n",
    "    a,b=0,1\n",
    "    for i in range(n):\n",
    "        yield a\n",
    "        a,b=b,a+b"
   ]
  },
  {
   "cell_type": "code",
   "execution_count": 94,
   "id": "4dc1f53f",
   "metadata": {},
   "outputs": [
    {
     "data": {
      "text/plain": [
       "<generator object test_fibo at 0x000001FFACEE1D60>"
      ]
     },
     "execution_count": 94,
     "metadata": {},
     "output_type": "execute_result"
    }
   ],
   "source": [
    "test_fibo(10)"
   ]
  },
  {
   "cell_type": "code",
   "execution_count": 100,
   "id": "1d22810a",
   "metadata": {},
   "outputs": [
    {
     "name": "stdout",
     "output_type": "stream",
     "text": [
      "0 1 1 2 3 5 8 13 21 34 "
     ]
    }
   ],
   "source": [
    "for i in test_fibo(10):\n",
    "    print(i,end=\" \")"
   ]
  },
  {
   "cell_type": "markdown",
   "id": "b50e7661",
   "metadata": {},
   "source": [
    "## Lambda Function"
   ]
  },
  {
   "cell_type": "code",
   "execution_count": 1,
   "id": "9d60aba6",
   "metadata": {},
   "outputs": [],
   "source": [
    "n=3\n",
    "p=2"
   ]
  },
  {
   "cell_type": "code",
   "execution_count": 2,
   "id": "ccadd5eb",
   "metadata": {},
   "outputs": [],
   "source": [
    "def test20(n,p):\n",
    "    return n**p"
   ]
  },
  {
   "cell_type": "code",
   "execution_count": 3,
   "id": "a1a733e9",
   "metadata": {},
   "outputs": [
    {
     "data": {
      "text/plain": [
       "9"
      ]
     },
     "execution_count": 3,
     "metadata": {},
     "output_type": "execute_result"
    }
   ],
   "source": [
    "test20(n,p)"
   ]
  },
  {
   "cell_type": "code",
   "execution_count": 6,
   "id": "5a50ea53",
   "metadata": {},
   "outputs": [],
   "source": [
    "a=lambda n,p:n**p"
   ]
  },
  {
   "cell_type": "code",
   "execution_count": 7,
   "id": "fc263877",
   "metadata": {},
   "outputs": [
    {
     "data": {
      "text/plain": [
       "9"
      ]
     },
     "execution_count": 7,
     "metadata": {},
     "output_type": "execute_result"
    }
   ],
   "source": [
    "a(3,2)"
   ]
  },
  {
   "cell_type": "code",
   "execution_count": 8,
   "id": "55da20b4",
   "metadata": {},
   "outputs": [],
   "source": [
    "add=lambda x,y:x+y"
   ]
  },
  {
   "cell_type": "code",
   "execution_count": 9,
   "id": "57f82af0",
   "metadata": {},
   "outputs": [
    {
     "data": {
      "text/plain": [
       "5"
      ]
     },
     "execution_count": 9,
     "metadata": {},
     "output_type": "execute_result"
    }
   ],
   "source": [
    "add(3,2)"
   ]
  },
  {
   "cell_type": "code",
   "execution_count": 12,
   "id": "02e4d8ff",
   "metadata": {},
   "outputs": [],
   "source": [
    "c_f=lambda c:(9/5)*c+32"
   ]
  },
  {
   "cell_type": "code",
   "execution_count": 50,
   "id": "0c940bc3",
   "metadata": {},
   "outputs": [
    {
     "ename": "TypeError",
     "evalue": "can't multiply sequence by non-int of type 'float'",
     "output_type": "error",
     "traceback": [
      "\u001b[1;31m---------------------------------------------------------------------------\u001b[0m",
      "\u001b[1;31mTypeError\u001b[0m                                 Traceback (most recent call last)",
      "\u001b[1;32m~\\AppData\\Local\\Temp/ipykernel_26656/1575400694.py\u001b[0m in \u001b[0;36m<module>\u001b[1;34m\u001b[0m\n\u001b[1;32m----> 1\u001b[1;33m \u001b[0mc_f\u001b[0m\u001b[1;33m(\u001b[0m\u001b[1;33m[\u001b[0m\u001b[1;36m34\u001b[0m\u001b[1;33m,\u001b[0m\u001b[1;36m2\u001b[0m\u001b[1;33m]\u001b[0m\u001b[1;33m)\u001b[0m\u001b[1;33m\u001b[0m\u001b[1;33m\u001b[0m\u001b[0m\n\u001b[0m",
      "\u001b[1;32m~\\AppData\\Local\\Temp/ipykernel_26656/4195250273.py\u001b[0m in \u001b[0;36m<lambda>\u001b[1;34m(c)\u001b[0m\n\u001b[1;32m----> 1\u001b[1;33m \u001b[0mc_f\u001b[0m\u001b[1;33m=\u001b[0m\u001b[1;32mlambda\u001b[0m \u001b[0mc\u001b[0m\u001b[1;33m:\u001b[0m\u001b[1;33m(\u001b[0m\u001b[1;36m9\u001b[0m\u001b[1;33m/\u001b[0m\u001b[1;36m5\u001b[0m\u001b[1;33m)\u001b[0m\u001b[1;33m*\u001b[0m\u001b[0mc\u001b[0m\u001b[1;33m+\u001b[0m\u001b[1;36m32\u001b[0m\u001b[1;33m\u001b[0m\u001b[1;33m\u001b[0m\u001b[0m\n\u001b[0m",
      "\u001b[1;31mTypeError\u001b[0m: can't multiply sequence by non-int of type 'float'"
     ]
    }
   ],
   "source": [
    "c_f([34,2])"
   ]
  },
  {
   "cell_type": "code",
   "execution_count": 14,
   "id": "003e8608",
   "metadata": {},
   "outputs": [],
   "source": [
    "maxi=lambda a,b:a if a>b else b"
   ]
  },
  {
   "cell_type": "code",
   "execution_count": 16,
   "id": "cbd3077a",
   "metadata": {},
   "outputs": [
    {
     "data": {
      "text/plain": [
       "4"
      ]
     },
     "execution_count": 16,
     "metadata": {},
     "output_type": "execute_result"
    }
   ],
   "source": [
    "maxi(3,4)"
   ]
  },
  {
   "cell_type": "code",
   "execution_count": 17,
   "id": "5bee44f3",
   "metadata": {},
   "outputs": [],
   "source": [
    "s=\"pwskills\""
   ]
  },
  {
   "cell_type": "code",
   "execution_count": 18,
   "id": "91c4ab22",
   "metadata": {},
   "outputs": [
    {
     "data": {
      "text/plain": [
       "8"
      ]
     },
     "execution_count": 18,
     "metadata": {},
     "output_type": "execute_result"
    }
   ],
   "source": [
    "len(s)"
   ]
  },
  {
   "cell_type": "code",
   "execution_count": 19,
   "id": "a284a002",
   "metadata": {},
   "outputs": [],
   "source": [
    "len_st=lambda s:len(s)"
   ]
  },
  {
   "cell_type": "code",
   "execution_count": 20,
   "id": "a6681862",
   "metadata": {},
   "outputs": [
    {
     "data": {
      "text/plain": [
       "8"
      ]
     },
     "execution_count": 20,
     "metadata": {},
     "output_type": "execute_result"
    }
   ],
   "source": [
    "len_st(s)"
   ]
  },
  {
   "cell_type": "markdown",
   "id": "9dd32b8e",
   "metadata": {},
   "source": [
    "## Map, Reduce and Filter Functions"
   ]
  },
  {
   "cell_type": "code",
   "execution_count": 21,
   "id": "e1588cbe",
   "metadata": {},
   "outputs": [],
   "source": [
    "l=[1,2,4,5,6]"
   ]
  },
  {
   "cell_type": "code",
   "execution_count": 22,
   "id": "fec25039",
   "metadata": {},
   "outputs": [],
   "source": [
    "def test22(lst):\n",
    "    ls=[]\n",
    "    for i in l:\n",
    "        ls.append(i**2)\n",
    "    return ls"
   ]
  },
  {
   "cell_type": "code",
   "execution_count": 24,
   "id": "8f7453e6",
   "metadata": {},
   "outputs": [
    {
     "data": {
      "text/plain": [
       "[1, 4, 16, 25, 36]"
      ]
     },
     "execution_count": 24,
     "metadata": {},
     "output_type": "execute_result"
    }
   ],
   "source": [
    "test22(l)"
   ]
  },
  {
   "cell_type": "code",
   "execution_count": 25,
   "id": "c01c0f17",
   "metadata": {},
   "outputs": [],
   "source": [
    "def sq(x):\n",
    "    return x**2"
   ]
  },
  {
   "cell_type": "code",
   "execution_count": 26,
   "id": "96415e70",
   "metadata": {},
   "outputs": [
    {
     "data": {
      "text/plain": [
       "<map at 0x1d71446f7f0>"
      ]
     },
     "execution_count": 26,
     "metadata": {},
     "output_type": "execute_result"
    }
   ],
   "source": [
    "map(sq,l)"
   ]
  },
  {
   "cell_type": "code",
   "execution_count": 27,
   "id": "2e8f966a",
   "metadata": {},
   "outputs": [
    {
     "data": {
      "text/plain": [
       "[1, 4, 16, 25, 36]"
      ]
     },
     "execution_count": 27,
     "metadata": {},
     "output_type": "execute_result"
    }
   ],
   "source": [
    "list(map(sq,l))"
   ]
  },
  {
   "cell_type": "code",
   "execution_count": 28,
   "id": "db7f2d82",
   "metadata": {},
   "outputs": [
    {
     "data": {
      "text/plain": [
       "[1, 4, 16, 25, 36]"
      ]
     },
     "execution_count": 28,
     "metadata": {},
     "output_type": "execute_result"
    }
   ],
   "source": [
    "list(map(lambda x:x**2,l))"
   ]
  },
  {
   "cell_type": "code",
   "execution_count": 29,
   "id": "58824eaa",
   "metadata": {},
   "outputs": [
    {
     "data": {
      "text/plain": [
       "[2, 3, 5, 6, 7]"
      ]
     },
     "execution_count": 29,
     "metadata": {},
     "output_type": "execute_result"
    }
   ],
   "source": [
    "list(map(lambda x:x+1,l))"
   ]
  },
  {
   "cell_type": "code",
   "execution_count": 30,
   "id": "89e8fa8f",
   "metadata": {},
   "outputs": [
    {
     "data": {
      "text/plain": [
       "['1', '2', '4', '5', '6']"
      ]
     },
     "execution_count": 30,
     "metadata": {},
     "output_type": "execute_result"
    }
   ],
   "source": [
    "list(map(lambda x:str(x),l))"
   ]
  },
  {
   "cell_type": "code",
   "execution_count": 31,
   "id": "872e2756",
   "metadata": {},
   "outputs": [],
   "source": [
    "l1=[1,2,3,4,5]\n",
    "l2=[6,7,8,9,10]"
   ]
  },
  {
   "cell_type": "code",
   "execution_count": 32,
   "id": "8c2d90ed",
   "metadata": {},
   "outputs": [
    {
     "data": {
      "text/plain": [
       "[7, 9, 11, 13, 15]"
      ]
     },
     "execution_count": 32,
     "metadata": {},
     "output_type": "execute_result"
    }
   ],
   "source": [
    "list(map(lambda x,y:x+y,l1,l2))"
   ]
  },
  {
   "cell_type": "code",
   "execution_count": 33,
   "id": "ac777273",
   "metadata": {},
   "outputs": [
    {
     "data": {
      "text/plain": [
       "[1, 2, 3, 4, 5, 6, 7, 8, 9, 10]"
      ]
     },
     "execution_count": 33,
     "metadata": {},
     "output_type": "execute_result"
    }
   ],
   "source": [
    "l1+l2"
   ]
  },
  {
   "cell_type": "code",
   "execution_count": 34,
   "id": "95d75921",
   "metadata": {},
   "outputs": [],
   "source": [
    "s=\"pwskills\""
   ]
  },
  {
   "cell_type": "code",
   "execution_count": 35,
   "id": "a7d65686",
   "metadata": {},
   "outputs": [
    {
     "data": {
      "text/plain": [
       "['P', 'W', 'S', 'K', 'I', 'L', 'L', 'S']"
      ]
     },
     "execution_count": 35,
     "metadata": {},
     "output_type": "execute_result"
    }
   ],
   "source": [
    "list(map(lambda a:a.upper(),s))"
   ]
  },
  {
   "cell_type": "code",
   "execution_count": 36,
   "id": "fd83823d",
   "metadata": {},
   "outputs": [],
   "source": [
    "from functools import reduce"
   ]
  },
  {
   "cell_type": "code",
   "execution_count": 37,
   "id": "ecc423df",
   "metadata": {},
   "outputs": [],
   "source": [
    "l=[1,2,3,4,5]"
   ]
  },
  {
   "cell_type": "code",
   "execution_count": 38,
   "id": "65f37b57",
   "metadata": {},
   "outputs": [
    {
     "data": {
      "text/plain": [
       "15"
      ]
     },
     "execution_count": 38,
     "metadata": {},
     "output_type": "execute_result"
    }
   ],
   "source": [
    "sum(l)"
   ]
  },
  {
   "cell_type": "code",
   "execution_count": 39,
   "id": "2a7a15af",
   "metadata": {},
   "outputs": [
    {
     "data": {
      "text/plain": [
       "15"
      ]
     },
     "execution_count": 39,
     "metadata": {},
     "output_type": "execute_result"
    }
   ],
   "source": [
    "reduce(lambda x,y:x+y,l)"
   ]
  },
  {
   "cell_type": "code",
   "execution_count": 40,
   "id": "9d645e28",
   "metadata": {},
   "outputs": [],
   "source": [
    "# reduce will only take 2 arguments"
   ]
  },
  {
   "cell_type": "code",
   "execution_count": 41,
   "id": "c9763148",
   "metadata": {},
   "outputs": [
    {
     "data": {
      "text/plain": [
       "5"
      ]
     },
     "execution_count": 41,
     "metadata": {},
     "output_type": "execute_result"
    }
   ],
   "source": [
    "reduce(lambda x,y:x if x>y else y,l)"
   ]
  },
  {
   "cell_type": "code",
   "execution_count": 42,
   "id": "6eae5ef9",
   "metadata": {},
   "outputs": [
    {
     "data": {
      "text/plain": [
       "[1, 2, 3, 4, 5]"
      ]
     },
     "execution_count": 42,
     "metadata": {},
     "output_type": "execute_result"
    }
   ],
   "source": [
    "l"
   ]
  },
  {
   "cell_type": "code",
   "execution_count": 47,
   "id": "a280a9c6",
   "metadata": {},
   "outputs": [
    {
     "data": {
      "text/plain": [
       "[2, 4]"
      ]
     },
     "execution_count": 47,
     "metadata": {},
     "output_type": "execute_result"
    }
   ],
   "source": [
    "list(filter(lambda x:  x%2==0, l))"
   ]
  },
  {
   "cell_type": "code",
   "execution_count": 48,
   "id": "51b8fccb",
   "metadata": {},
   "outputs": [],
   "source": [
    "l1=[-2,3,-7,8,9]"
   ]
  },
  {
   "cell_type": "code",
   "execution_count": 49,
   "id": "c7f5aefb",
   "metadata": {},
   "outputs": [
    {
     "data": {
      "text/plain": [
       "[-2, -7]"
      ]
     },
     "execution_count": 49,
     "metadata": {},
     "output_type": "execute_result"
    }
   ],
   "source": [
    "list(filter(lambda x: x<0, l1))"
   ]
  },
  {
   "cell_type": "code",
   "execution_count": null,
   "id": "6b275dbd",
   "metadata": {},
   "outputs": [],
   "source": []
  }
 ],
 "metadata": {
  "kernelspec": {
   "display_name": "Python 3 (ipykernel)",
   "language": "python",
   "name": "python3"
  },
  "language_info": {
   "codemirror_mode": {
    "name": "ipython",
    "version": 3
   },
   "file_extension": ".py",
   "mimetype": "text/x-python",
   "name": "python",
   "nbconvert_exporter": "python",
   "pygments_lexer": "ipython3",
   "version": "3.9.7"
  }
 },
 "nbformat": 4,
 "nbformat_minor": 5
}
